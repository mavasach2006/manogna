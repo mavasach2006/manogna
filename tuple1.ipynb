{
 "cells": [
  {
   "cell_type": "code",
   "execution_count": 7,
   "id": "f78b9d52-e238-4d61-890e-95cdcd37e18a",
   "metadata": {},
   "outputs": [
    {
     "name": "stdout",
     "output_type": "stream",
     "text": [
      "(1, 2, 3, 4)\n"
     ]
    }
   ],
   "source": [
    "nums=[1,2,3,4,4,2]\n",
    "unique_elements=tuple(set(nums))\n",
    "print(unique_elements)"
   ]
  },
  {
   "cell_type": "code",
   "execution_count": 15,
   "id": "e523b74f-b8fe-4253-bc22-57a0bc86ef24",
   "metadata": {},
   "outputs": [
    {
     "ename": "TypeError",
     "evalue": "'set' object is not callable",
     "output_type": "error",
     "traceback": [
      "\u001b[1;31m---------------------------------------------------------------------------\u001b[0m",
      "\u001b[1;31mTypeError\u001b[0m                                 Traceback (most recent call last)",
      "Cell \u001b[1;32mIn[15], line 3\u001b[0m\n\u001b[0;32m      1\u001b[0m \u001b[38;5;28mset\u001b[39m\u001b[38;5;241m=\u001b[39m {\u001b[38;5;241m1\u001b[39m,\u001b[38;5;241m2\u001b[39m,\u001b[38;5;241m3\u001b[39m,\u001b[38;5;241m4\u001b[39m}\n\u001b[0;32m      2\u001b[0m my_tuple\u001b[38;5;241m=\u001b[39m(\u001b[38;5;241m91\u001b[39m,\u001b[38;5;241m6\u001b[39m,\u001b[38;5;241m7\u001b[39m)\n\u001b[1;32m----> 3\u001b[0m nums\u001b[38;5;241m=\u001b[39m \u001b[38;5;28mset\u001b[39m(my_tuple)\n\u001b[0;32m      4\u001b[0m intersection\u001b[38;5;241m=\u001b[39m\u001b[38;5;28mset\u001b[39m \u001b[38;5;241m&\u001b[39m nums\n\u001b[0;32m      5\u001b[0m \u001b[38;5;28mprint\u001b[39m(intersection)\n",
      "\u001b[1;31mTypeError\u001b[0m: 'set' object is not callable"
     ]
    }
   ],
   "source": [
    "set= {1,2,3,4}\n",
    "my_tuple=(91,6,7)\n",
    "nums= set(my_tuple)\n",
    "intersection=set & nums\n",
    "print(intersection)"
   ]
  },
  {
   "cell_type": "code",
   "execution_count": 19,
   "id": "0904f0f6-4a2c-4fd7-bd03-0884b9d33c9f",
   "metadata": {},
   "outputs": [
    {
     "ename": "TypeError",
     "evalue": "'set' object is not callable",
     "output_type": "error",
     "traceback": [
      "\u001b[1;31m---------------------------------------------------------------------------\u001b[0m",
      "\u001b[1;31mTypeError\u001b[0m                                 Traceback (most recent call last)",
      "Cell \u001b[1;32mIn[19], line 3\u001b[0m\n\u001b[0;32m      1\u001b[0m \u001b[38;5;28mset\u001b[39m\u001b[38;5;241m=\u001b[39m {\u001b[38;5;241m1\u001b[39m,\u001b[38;5;241m2\u001b[39m,\u001b[38;5;241m3\u001b[39m,\u001b[38;5;241m4\u001b[39m}\n\u001b[0;32m      2\u001b[0m my_tuple\u001b[38;5;241m=\u001b[39m(\u001b[38;5;241m91\u001b[39m,\u001b[38;5;241m6\u001b[39m,\u001b[38;5;241m7\u001b[39m,\u001b[38;5;241m2\u001b[39m,\u001b[38;5;241m3\u001b[39m)\n\u001b[1;32m----> 3\u001b[0m nums\u001b[38;5;241m=\u001b[39m \u001b[38;5;28mset\u001b[39m(my_tuple)\n\u001b[0;32m      4\u001b[0m intersection\u001b[38;5;241m=\u001b[39m\u001b[38;5;28mset\u001b[39m \u001b[38;5;241m&\u001b[39m nums\n\u001b[0;32m      5\u001b[0m \u001b[38;5;28mprint\u001b[39m(intersection)\n",
      "\u001b[1;31mTypeError\u001b[0m: 'set' object is not callable"
     ]
    }
   ],
   "source": [
    "set= {1,2,3,4}\n",
    "my_tuple=(91,6,7,2,3)\n",
    "nums= set(my_tuple)\n",
    "intersection=set & nums\n",
    "print(intersection)"
   ]
  },
  {
   "cell_type": "code",
   "execution_count": 25,
   "id": "cb77bacc-92f7-460d-bfab-ba5dbf51a024",
   "metadata": {},
   "outputs": [
    {
     "ename": "TypeError",
     "evalue": "'set' object is not callable",
     "output_type": "error",
     "traceback": [
      "\u001b[1;31m---------------------------------------------------------------------------\u001b[0m",
      "\u001b[1;31mTypeError\u001b[0m                                 Traceback (most recent call last)",
      "Cell \u001b[1;32mIn[25], line 4\u001b[0m\n\u001b[0;32m      1\u001b[0m my_set\u001b[38;5;241m=\u001b[39m {\u001b[38;5;241m1\u001b[39m,\u001b[38;5;241m2\u001b[39m,\u001b[38;5;241m3\u001b[39m,\u001b[38;5;241m4\u001b[39m}\n\u001b[0;32m      2\u001b[0m my_tuple\u001b[38;5;241m=\u001b[39m (\u001b[38;5;241m3\u001b[39m,\u001b[38;5;241m4\u001b[39m,\u001b[38;5;241m5\u001b[39m,\u001b[38;5;241m6\u001b[39m)\n\u001b[1;32m----> 4\u001b[0m my_tuple_set\u001b[38;5;241m=\u001b[39m \u001b[38;5;28mset\u001b[39m(my_tuple)\n\u001b[0;32m      5\u001b[0m common_elements\u001b[38;5;241m=\u001b[39m my_set \u001b[38;5;241m&\u001b[39m my_tuple_set\n\u001b[0;32m      6\u001b[0m \u001b[38;5;28mprint\u001b[39m(common_elements)\n",
      "\u001b[1;31mTypeError\u001b[0m: 'set' object is not callable"
     ]
    }
   ],
   "source": [
    "my_set= {1,2,3,4}\n",
    "my_tuple= (3,4,5,6)\n",
    "my_tuple_set= set(my_tuple)\n",
    "common_elements= my_set & my_tuple_set\n",
    "print(common_elements)"
   ]
  },
  {
   "cell_type": "code",
   "execution_count": null,
   "id": "8aa39382-aab2-413e-a43f-cf5cb64bb546",
   "metadata": {},
   "outputs": [],
   "source": []
  }
 ],
 "metadata": {
  "kernelspec": {
   "display_name": "Python 3 (ipykernel)",
   "language": "python",
   "name": "python3"
  },
  "language_info": {
   "codemirror_mode": {
    "name": "ipython",
    "version": 3
   },
   "file_extension": ".py",
   "mimetype": "text/x-python",
   "name": "python",
   "nbconvert_exporter": "python",
   "pygments_lexer": "ipython3",
   "version": "3.12.4"
  }
 },
 "nbformat": 4,
 "nbformat_minor": 5
}
