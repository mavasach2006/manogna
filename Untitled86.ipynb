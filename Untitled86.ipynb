{
 "cells": [
  {
   "cell_type": "code",
   "execution_count": 1,
   "id": "f51a548d-563d-407f-8312-ed1bfcadf144",
   "metadata": {},
   "outputs": [
    {
     "name": "stdout",
     "output_type": "stream",
     "text": [
      "{'manu': 24106, 'lakshmipriya': 24115}\n"
     ]
    }
   ],
   "source": [
    "phone_no={'manu':24106,'lakshmipriya':24115}\n",
    "print(phone_no)"
   ]
  },
  {
   "cell_type": "code",
   "execution_count": 3,
   "id": "ed675ffd-d63f-4f0c-9bcc-72ac3c64e3eb",
   "metadata": {},
   "outputs": [
    {
     "name": "stdout",
     "output_type": "stream",
     "text": [
      "{'manu': 24106, 'lakshmipriya': 24115}\n"
     ]
    }
   ],
   "source": [
    "phone_no={\n",
    "    'manu':24106,\n",
    "    'lakshmipriya':24115,\n",
    "}\n",
    "print(phone_no)"
   ]
  },
  {
   "cell_type": "code",
   "execution_count": 5,
   "id": "246b0268-2459-4942-aef0-9aa3ff1d3f45",
   "metadata": {},
   "outputs": [
    {
     "name": "stdout",
     "output_type": "stream",
     "text": [
      "24106\n"
     ]
    }
   ],
   "source": [
    "phone_no={\n",
    "    'manu':24106,\n",
    "    'lakshmipriya':24115,\n",
    "}\n",
    "print(phone_no['manu'])"
   ]
  },
  {
   "cell_type": "code",
   "execution_count": 7,
   "id": "72ffa121-0ee7-4632-b15b-f44f37f60730",
   "metadata": {},
   "outputs": [
    {
     "name": "stdout",
     "output_type": "stream",
     "text": [
      "{'manu': 24106, 'lakshmipriya': 24115}\n"
     ]
    }
   ],
   "source": [
    "phoneno=dict({'manu':24106,\n",
    "    'lakshmipriya':24115,\n",
    "})\n",
    "print(phoneno)"
   ]
  },
  {
   "cell_type": "code",
   "execution_count": 20,
   "id": "a0ffecc8-4077-44f3-b840-b541dc7abab0",
   "metadata": {},
   "outputs": [
    {
     "name": "stdout",
     "output_type": "stream",
     "text": [
      "{'manu': 24106, 'lakshmipriya': 24115}\n",
      "{'manu': [24118, 24022], 'lakshmipriya': 24115}\n"
     ]
    }
   ],
   "source": [
    "phoneno=dict({'manu':24106,\n",
    "    'lakshmipriya':24115,\n",
    "})\n",
    "print(phoneno)\n",
    "phoneno['manu']=[24118,24022]\n",
    "print(phoneno)"
   ]
  },
  {
   "cell_type": "code",
   "execution_count": null,
   "id": "c9478771-34cf-47a8-a3b1-935375be01cb",
   "metadata": {},
   "outputs": [],
   "source": [
    "dictionary_fruits={'alice':85,'bob':90,'charlie':78}\n",
    "print(dictionary_fruits)\n",
    "dictionary_fruits['bob"
   ]
  },
  {
   "cell_type": "code",
   "execution_count": null,
   "id": "d3180446-efbc-40b2-b1ce-c8eb36ad6ba8",
   "metadata": {},
   "outputs": [],
   "source": []
  }
 ],
 "metadata": {
  "kernelspec": {
   "display_name": "Python 3 (ipykernel)",
   "language": "python",
   "name": "python3"
  },
  "language_info": {
   "codemirror_mode": {
    "name": "ipython",
    "version": 3
   },
   "file_extension": ".py",
   "mimetype": "text/x-python",
   "name": "python",
   "nbconvert_exporter": "python",
   "pygments_lexer": "ipython3",
   "version": "3.12.4"
  }
 },
 "nbformat": 4,
 "nbformat_minor": 5
}
