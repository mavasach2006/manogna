{
 "cells": [
  {
   "cell_type": "code",
   "execution_count": 1,
   "id": "5ecbcbac-271f-47d7-967a-3080426680b6",
   "metadata": {},
   "outputs": [
    {
     "name": "stdin",
     "output_type": "stream",
     "text": [
      "enter a number 6\n"
     ]
    },
    {
     "name": "stdout",
     "output_type": "stream",
     "text": [
      " \n",
      "1  \n",
      "2 2  \n",
      "3 3 3  \n",
      "4 4 4 4  \n",
      "5 5 5 5 5  \n"
     ]
    }
   ],
   "source": [
    "row=int(input(\"enter a number\"))\n",
    "for num in range(row):\n",
    "    for i in range (num):\n",
    "        print(num,end=\" \")\n",
    "    print(\" \")\n",
    "        "
   ]
  },
  {
   "cell_type": "code",
   "execution_count": 9,
   "id": "6ebe5287-8435-41da-81e3-01a3fb0fb834",
   "metadata": {},
   "outputs": [
    {
     "name": "stdin",
     "output_type": "stream",
     "text": [
      "enter a number 5\n"
     ]
    },
    {
     "name": "stdout",
     "output_type": "stream",
     "text": [
      "1 1 1 1 1 \n",
      "2 2 2 2 \n",
      "3 3 3 \n",
      "4 4 \n",
      "5 \n"
     ]
    }
   ],
   "source": [
    "row=int(input(\"enter a number\"))\n",
    "b=0\n",
    "for i in range(row,0,-1):\n",
    "    b=b+1\n",
    "    for j in range (1,i+1):\n",
    "        print(b,end=\" \")\n",
    "    print(\"\\r\")\n",
    "        "
   ]
  },
  {
   "cell_type": "code",
   "execution_count": 13,
   "id": "05cb8bc4-a3e5-4ed5-b409-4ad5afb5b819",
   "metadata": {},
   "outputs": [
    {
     "name": "stdout",
     "output_type": "stream",
     "text": [
      "[0, 1, 2, 3]\n",
      "[1, 2, 3, 4]\n",
      "[2, 3, 4, 5]\n"
     ]
    }
   ],
   "source": [
    "rows=3\n",
    "cols=4\n",
    "matrix=[ ]\n",
    "for i in range (rows):\n",
    "    row=[ ]\n",
    "    for j in range(cols):\n",
    "        row.append(i+j)\n",
    "    matrix.append(row)\n",
    "for row in matrix:\n",
    "    print(row)"
   ]
  },
  {
   "cell_type": "code",
   "execution_count": null,
   "id": "9000be97-e11c-49d5-85fd-a177354a2bf7",
   "metadata": {},
   "outputs": [],
   "source": []
  }
 ],
 "metadata": {
  "kernelspec": {
   "display_name": "Python 3 (ipykernel)",
   "language": "python",
   "name": "python3"
  },
  "language_info": {
   "codemirror_mode": {
    "name": "ipython",
    "version": 3
   },
   "file_extension": ".py",
   "mimetype": "text/x-python",
   "name": "python",
   "nbconvert_exporter": "python",
   "pygments_lexer": "ipython3",
   "version": "3.12.4"
  }
 },
 "nbformat": 4,
 "nbformat_minor": 5
}
