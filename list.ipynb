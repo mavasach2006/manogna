{
 "cells": [
  {
   "cell_type": "code",
   "execution_count": 1,
   "id": "52fbb46f-7546-4dea-8dd2-527055588079",
   "metadata": {},
   "outputs": [
    {
     "name": "stdout",
     "output_type": "stream",
     "text": [
      "[10, 20, 25, 30, 40, 50]\n"
     ]
    }
   ],
   "source": [
    "list=[10,20,30,40,50]\n",
    "list.insert(2,25)\n",
    "print(list)"
   ]
  },
  {
   "cell_type": "code",
   "execution_count": 22,
   "id": "fcf78ecf-24c3-4ce6-acd9-ebd76199d9e0",
   "metadata": {},
   "outputs": [
    {
     "name": "stdout",
     "output_type": "stream",
     "text": [
      "[10, 20, 30]\n"
     ]
    }
   ],
   "source": [
    "def unique_elements(list):\n",
    "    unique_list=[]\n",
    "    for item in list:\n",
    "        if item not in unique_list:\n",
    "            unique_list.append(item)\n",
    "    return unique_list\n",
    "nums=[10,20,30,30,10]\n",
    "result=unique_elements(nums)\n",
    "print(result)"
   ]
  },
  {
   "cell_type": "code",
   "execution_count": 48,
   "id": "e13ac64a-f7bb-48f9-b305-61535da03130",
   "metadata": {},
   "outputs": [
    {
     "ename": "NameError",
     "evalue": "name 'x' is not defined",
     "output_type": "error",
     "traceback": [
      "\u001b[1;31m---------------------------------------------------------------------------\u001b[0m",
      "\u001b[1;31mNameError\u001b[0m                                 Traceback (most recent call last)",
      "Cell \u001b[1;32mIn[48], line 3\u001b[0m\n\u001b[0;32m      1\u001b[0m unique\u001b[38;5;241m=\u001b[39m[]\n\u001b[0;32m      2\u001b[0m new\u001b[38;5;241m=\u001b[39m[x \u001b[38;5;28;01mfor\u001b[39;00m x \u001b[38;5;129;01min\u001b[39;00m nums \u001b[38;5;28;01mif\u001b[39;00m x \u001b[38;5;129;01mnot\u001b[39;00m \u001b[38;5;129;01min\u001b[39;00m unique]\n\u001b[1;32m----> 3\u001b[0m unique\u001b[38;5;241m.\u001b[39mappend(x)\n\u001b[0;32m      4\u001b[0m \u001b[38;5;28;01mreturn\u001b[39;00m unique\n\u001b[0;32m      5\u001b[0m nums\u001b[38;5;241m=\u001b[39m[\u001b[38;5;241m10\u001b[39m,\u001b[38;5;241m20\u001b[39m,\u001b[38;5;241m30\u001b[39m,\u001b[38;5;241m30\u001b[39m,\u001b[38;5;241m10\u001b[39m]\n",
      "\u001b[1;31mNameError\u001b[0m: name 'x' is not defined"
     ]
    }
   ],
   "source": [
    "unique=[]\n",
    "new=[x for x in nums if x not in unique]\n",
    "unique.append(x)\n",
    "return unique\n",
    "nums=[10,20,30,30,10]\n",
    "print(new)"
   ]
  },
  {
   "cell_type": "code",
   "execution_count": 60,
   "id": "cbe7dbf6-af8a-4533-aa92-3b5070d061cf",
   "metadata": {},
   "outputs": [
    {
     "name": "stdout",
     "output_type": "stream",
     "text": [
      "[10, 20, 40]\n"
     ]
    }
   ],
   "source": [
    "def unique(list):\n",
    "    unique_list=[]\n",
    "    for items in list:\n",
    "        if items not in unique_list:\n",
    "            unique_list.append(items)\n",
    "    return unique_list\n",
    "nums=[10,20,40,40]\n",
    "unique=unique_elements(nums)\n",
    "print(unique)"
   ]
  },
  {
   "cell_type": "code",
   "execution_count": 64,
   "id": "f6def045-449c-4b2e-8319-af04f5f4fce5",
   "metadata": {},
   "outputs": [
    {
     "name": "stdout",
     "output_type": "stream",
     "text": [
      "[10, 30, 90]\n"
     ]
    }
   ],
   "source": [
    "def unique(list):\n",
    "    unique_list=[]\n",
    "    for items in list:\n",
    "        if items not in unique_list:\n",
    "            unique_list.append(items)\n",
    "    return unique_list\n",
    "nums=[10,10,30,90]\n",
    "result=unique_elements(nums)\n",
    "print(result)"
   ]
  },
  {
   "cell_type": "code",
   "execution_count": 70,
   "id": "b561c228-f288-4b96-bc07-7411f571e3ef",
   "metadata": {},
   "outputs": [
    {
     "name": "stdout",
     "output_type": "stream",
     "text": [
      "90\n"
     ]
    }
   ],
   "source": [
    "list=[80,90,100]\n",
    "lar=max(list)\n",
    "lar_two=[x for x in list if x!=lar]\n",
    "new=max(lar_two)\n",
    "print(new)"
   ]
  },
  {
   "cell_type": "code",
   "execution_count": 74,
   "id": "1494b0fc-0172-438a-9dc7-65f93bb75860",
   "metadata": {},
   "outputs": [
    {
     "name": "stdout",
     "output_type": "stream",
     "text": [
      "1\n",
      "2\n",
      "3\n",
      "4\n",
      "5\n"
     ]
    }
   ],
   "source": [
    "tuple=(1,2,3,4,5)\n",
    "a=1\n",
    "b=2\n",
    "c=3\n",
    "d=4\n",
    "e=5\n",
    "print(a)\n",
    "print(b)\n",
    "print(c)\n",
    "print(d)\n",
    "print(e)"
   ]
  },
  {
   "cell_type": "code",
   "execution_count": 76,
   "id": "4e83b978-58bb-453a-a5bb-dc0f55f4a7c5",
   "metadata": {},
   "outputs": [
    {
     "name": "stdout",
     "output_type": "stream",
     "text": [
      "(4, 3, 2, 1)\n"
     ]
    }
   ],
   "source": [
    "tuple=(1,2,3,4)\n",
    "reverse=tuple[::-1]\n",
    "print(reverse)"
   ]
  },
  {
   "cell_type": "code",
   "execution_count": 90,
   "id": "da55953e-5aff-4b7f-8733-939f903668ef",
   "metadata": {},
   "outputs": [
    {
     "name": "stdout",
     "output_type": "stream",
     "text": [
      "{1, 2, 3, 4, 5, 6}\n"
     ]
    }
   ],
   "source": [
    "set1={1,2,3,4}\n",
    "set2={4,3,5,6}\n",
    "union=set1 | set2\n",
    "print(union)"
   ]
  },
  {
   "cell_type": "code",
   "execution_count": 88,
   "id": "d0930850-38cf-46e7-8dbd-f56886994a7a",
   "metadata": {},
   "outputs": [
    {
     "name": "stdout",
     "output_type": "stream",
     "text": [
      "{3, 4}\n"
     ]
    }
   ],
   "source": [
    "set1={1,2,3,4}\n",
    "set2={4,3,5,6}\n",
    "intersection=set1 & set2\n",
    "print(intersection)"
   ]
  },
  {
   "cell_type": "code",
   "execution_count": null,
   "id": "abbbee19-8e39-435c-a022-7d739e66fb67",
   "metadata": {},
   "outputs": [],
   "source": []
  }
 ],
 "metadata": {
  "kernelspec": {
   "display_name": "Python 3 (ipykernel)",
   "language": "python",
   "name": "python3"
  },
  "language_info": {
   "codemirror_mode": {
    "name": "ipython",
    "version": 3
   },
   "file_extension": ".py",
   "mimetype": "text/x-python",
   "name": "python",
   "nbconvert_exporter": "python",
   "pygments_lexer": "ipython3",
   "version": "3.12.4"
  }
 },
 "nbformat": 4,
 "nbformat_minor": 5
}
