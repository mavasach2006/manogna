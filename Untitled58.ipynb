{
 "cells": [
  {
   "cell_type": "code",
   "execution_count": 22,
   "id": "cc4b5af5-6567-4d3d-8e03-9fcce0541d12",
   "metadata": {},
   "outputs": [
    {
     "name": "stdout",
     "output_type": "stream",
     "text": [
      "found at 1\n"
     ]
    }
   ],
   "source": [
    "pos=-1\n",
    "def search(list,n):\n",
    "    i=0\n",
    "    while i<len(list):\n",
    "        if list[i]==n:\n",
    "            globals()['pos']=i\n",
    "            return True\n",
    "        i=i+1\n",
    "    return False\n",
    "list=[5,6,7,8]\n",
    "n=6\n",
    "if search(list,n):\n",
    "    print(\"found at\",pos+1)\n",
    "else:\n",
    "    print(\"not found\")\n"
   ]
  },
  {
   "cell_type": "code",
   "execution_count": 42,
   "id": "600be834-8af0-42d4-a32a-c401361db3d7",
   "metadata": {},
   "outputs": [
    {
     "name": "stdout",
     "output_type": "stream",
     "text": [
      "found at 3\n"
     ]
    }
   ],
   "source": [
    "pos=-1\n",
    "def search(list,n):\n",
    "    for i in range(len(list)):\n",
    "        if list[i]==n:\n",
    "            globals()['pos']=i\n",
    "            return True\n",
    "    return False\n",
    "list=[1,2,3,4]\n",
    "n=3\n",
    "if search(list,n):\n",
    "    print(\"found at\",pos+1)\n",
    "else:\n",
    "    print(\"not found\")\n",
    "    "
   ]
  },
  {
   "cell_type": "code",
   "execution_count": null,
   "id": "6c858b4b-5131-4d24-abca-1d29ed665165",
   "metadata": {},
   "outputs": [],
   "source": [
    "def search(list,n):\n",
    "   i=0\n",
    "    if i<len(list):\n",
    "        if i==n:\n",
    "        return true\n",
    "    i=i+1\n",
    "    return false"
   ]
  },
  {
   "cell_type": "code",
   "execution_count": 54,
   "id": "9da40cd4-8398-4b52-aca6-8a9fb4e4ed29",
   "metadata": {},
   "outputs": [
    {
     "name": "stdout",
     "output_type": "stream",
     "text": [
      "[[], [5], [4], [4, 5], [3], [3, 5], [3, 4], [3, 4, 5]]\n"
     ]
    }
   ],
   "source": [
    "def subsets(s):\n",
    "    if len(s)==0:\n",
    "        return [[]]\n",
    "    smaller_subsets=subsets(s[1:])\n",
    "    return smaller_subsets +[[s[0]]+ss for ss in smaller_subsets]\n",
    "print(subsets([3,4,5]))"
   ]
  },
  {
   "cell_type": "code",
   "execution_count": 56,
   "id": "4a25728f-57e6-490b-a316-eeadcc0852e8",
   "metadata": {},
   "outputs": [
    {
     "name": "stdout",
     "output_type": "stream",
     "text": [
      "5\n"
     ]
    }
   ],
   "source": [
    "def count_ways(n):\n",
    "    if n<=1:\n",
    "        return 1\n",
    "    return count_ways(n-1)+count_ways(n-2)\n",
    "print(count_ways(4))\n",
    "    "
   ]
  },
  {
   "cell_type": "code",
   "execution_count": 58,
   "id": "09e84349-c047-4607-8918-cd7772c24cba",
   "metadata": {},
   "outputs": [
    {
     "name": "stdout",
     "output_type": "stream",
     "text": [
      "15\n"
     ]
    }
   ],
   "source": [
    "def tringular(n):\n",
    "    if n==1:\n",
    "        return 1\n",
    "    return n+tringular(n-1)\n",
    "print(tringular(5))"
   ]
  },
  {
   "cell_type": "code",
   "execution_count": null,
   "id": "71319629-93d1-4272-8063-1f5f0b3a7a72",
   "metadata": {},
   "outputs": [],
   "source": []
  }
 ],
 "metadata": {
  "kernelspec": {
   "display_name": "Python 3 (ipykernel)",
   "language": "python",
   "name": "python3"
  },
  "language_info": {
   "codemirror_mode": {
    "name": "ipython",
    "version": 3
   },
   "file_extension": ".py",
   "mimetype": "text/x-python",
   "name": "python",
   "nbconvert_exporter": "python",
   "pygments_lexer": "ipython3",
   "version": "3.12.4"
  }
 },
 "nbformat": 4,
 "nbformat_minor": 5
}
