{
 "cells": [
  {
   "cell_type": "code",
   "execution_count": null,
   "id": "aefda087-898d-4544-9a2c-eca6fcabeda5",
   "metadata": {},
   "outputs": [],
   "source": [
    "def max(nums):\n",
    "    low=0\n",
    "    high=len(nums)-1\n",
    "    while low<=high:\n",
    "        mid=low+high//2\n",
    "        if nums[mid]>nums[mid+1] and mid<len(nums)-1:\n",
    "            return nums[mid]\n",
    "        elif nums[mid]<nums[high]:\n",
    "            high=mid+1\n",
    "        else:\n",
    "            low=mid-1\n",
    "    return nums[low]\n",
    "nums=[3,45,67,9]\n",
    "print(max(nums))"
   ]
  },
  {
   "cell_type": "code",
   "execution_count": null,
   "id": "e1b67927-0cbb-4afb-8e2c-fd409f2b246e",
   "metadata": {},
   "outputs": [],
   "source": [
    "def max(nums):\n",
    "    low=0\n",
    "    high=len(nums)-1\n",
    "    while low<=high:\n",
    "        mid=low+high//2\n",
    "        if nums[mid]>nums[mid+1] and mid<len(nums)-1:\n",
    "            return nums[mid]\n",
    "        elif nums[mid]<nums[high]:\n",
    "            high=mid+1\n",
    "        else:\n",
    "            low=mid-1\n",
    "    return nums[low]\n",
    "nums=[3,45,67,9]\n",
    "print(max(nums))"
   ]
  },
  {
   "cell_type": "code",
   "execution_count": null,
   "id": "fbf5fda2-259d-48d2-9c14-c7a2fe6b3797",
   "metadata": {},
   "outputs": [],
   "source": []
  }
 ],
 "metadata": {
  "kernelspec": {
   "display_name": "Python 3 (ipykernel)",
   "language": "python",
   "name": "python3"
  },
  "language_info": {
   "codemirror_mode": {
    "name": "ipython",
    "version": 3
   },
   "file_extension": ".py",
   "mimetype": "text/x-python",
   "name": "python",
   "nbconvert_exporter": "python",
   "pygments_lexer": "ipython3",
   "version": "3.12.4"
  }
 },
 "nbformat": 4,
 "nbformat_minor": 5
}
