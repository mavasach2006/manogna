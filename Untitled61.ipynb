{
 "cells": [
  {
   "cell_type": "code",
   "execution_count": 5,
   "id": "207094b3-60b4-412d-90b4-f8e077a9d520",
   "metadata": {},
   "outputs": [
    {
     "name": "stdout",
     "output_type": "stream",
     "text": [
      "[[], [4], [3], [3, 4], [2], [2, 4], [2, 3], [2, 3, 4], [1], [1, 4], [1, 3], [1, 3, 4], [1, 2], [1, 2, 4], [1, 2, 3], [1, 2, 3, 4]]\n"
     ]
    }
   ],
   "source": [
    "def subset(n):\n",
    "    if len(n)==0:\n",
    "        return [[]]\n",
    "    smaller_subset=subset(n[1:])\n",
    "    return smaller_subset+[[n[0]]+ss for ss in smaller_subset]\n",
    "print(subset([1,2,3,4]))"
   ]
  },
  {
   "cell_type": "code",
   "execution_count": 7,
   "id": "c270383f-a461-4120-b35e-c83b2c1522dc",
   "metadata": {},
   "outputs": [
    {
     "name": "stdout",
     "output_type": "stream",
     "text": [
      "8\n"
     ]
    }
   ],
   "source": [
    "def count(n):\n",
    "    if n<=1:\n",
    "        return 1\n",
    "    return count(n-1)+count(n-2)\n",
    "print(count(5))\n",
    "    "
   ]
  },
  {
   "cell_type": "code",
   "execution_count": 17,
   "id": "69db2d03-98a9-461d-acab-0615140d55e2",
   "metadata": {},
   "outputs": [
    {
     "name": "stdout",
     "output_type": "stream",
     "text": [
      "15\n"
     ]
    }
   ],
   "source": [
    "def triangle(n):\n",
    "    if n==1:\n",
    "        return 1\n",
    "    return n+triangle(n-1)\n",
    "print(triangle(5))"
   ]
  },
  {
   "cell_type": "code",
   "execution_count": 27,
   "id": "0336d131-2f5e-42dd-9486-945b6d336551",
   "metadata": {},
   "outputs": [
    {
     "name": "stdout",
     "output_type": "stream",
     "text": [
      "5\n"
     ]
    }
   ],
   "source": [
    "def fib(n):\n",
    "    if n<=1:\n",
    "        return n\n",
    "    return fib(n-1)+fib(n-2)\n",
    "print(fib(5))\n",
    "    "
   ]
  },
  {
   "cell_type": "code",
   "execution_count": 49,
   "id": "b923a607-53f4-44a9-bca1-f2ebe21fd786",
   "metadata": {},
   "outputs": [
    {
     "name": "stdout",
     "output_type": "stream",
     "text": [
      "move A to B\n",
      "move A to C\n",
      "move B to C\n",
      "move A to B\n",
      "move C to A\n",
      "move C to B\n",
      "move A to B\n",
      "move A to C\n",
      "move B to C\n",
      "move B to A\n",
      "move C to A\n",
      "move B to C\n",
      "move A to B\n",
      "move A to C\n",
      "move B to C\n"
     ]
    }
   ],
   "source": [
    "def move(a,b):\n",
    "    print(\"move\",a,\"to\",b)\n",
    "def tower_of_hanoi(n,A,B,C):\n",
    "    if n==1:\n",
    "        move(A,C)\n",
    "    else:\n",
    "        tower_of_hanoi(n-1,A,C,B)\n",
    "        move(A,C)\n",
    "        tower_of_hanoi(n-1,B,A,C)\n",
    "n=4\n",
    "tower_of_hanoi(n,\"A\",\"B\",\"C\")"
   ]
  },
  {
   "cell_type": "code",
   "execution_count": null,
   "id": "62d3c3d5-678a-470d-a1a4-f5981e727547",
   "metadata": {},
   "outputs": [],
   "source": []
  }
 ],
 "metadata": {
  "kernelspec": {
   "display_name": "Python 3 (ipykernel)",
   "language": "python",
   "name": "python3"
  },
  "language_info": {
   "codemirror_mode": {
    "name": "ipython",
    "version": 3
   },
   "file_extension": ".py",
   "mimetype": "text/x-python",
   "name": "python",
   "nbconvert_exporter": "python",
   "pygments_lexer": "ipython3",
   "version": "3.12.4"
  }
 },
 "nbformat": 4,
 "nbformat_minor": 5
}
