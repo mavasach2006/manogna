{
 "cells": [
  {
   "cell_type": "code",
   "execution_count": 5,
   "id": "e41593d8-20b7-41ac-894b-edca0b364e54",
   "metadata": {},
   "outputs": [
    {
     "name": "stdout",
     "output_type": "stream",
     "text": [
      "1 \n",
      "2 2 \n",
      "3 3 3 \n",
      "4 4 4 4 \n",
      "5 5 5 5 5 \n"
     ]
    }
   ],
   "source": [
    "rows=5\n",
    "for i in range(1,rows+1):\n",
    "    for j in range(1,i+1):\n",
    "        print(i,end=\" \")\n",
    "    print()"
   ]
  },
  {
   "cell_type": "code",
   "execution_count": 26,
   "id": "d9d29620-be5c-4a74-939c-fbbe599fc145",
   "metadata": {},
   "outputs": [
    {
     "name": "stdout",
     "output_type": "stream",
     "text": [
      "5 5 5 5 \n",
      "4 4 4 4 \n",
      "3 3 3 3 \n",
      "2 2 2 2 \n"
     ]
    }
   ],
   "source": [
    "rows=5\n",
    "for i in range(rows,1,-1):\n",
    "    for j in range(1,rows):\n",
    "        print(i,end=' ')\n",
    "    print()"
   ]
  },
  {
   "cell_type": "code",
   "execution_count": 34,
   "id": "899bd119-6c76-4b4a-aaad-de7b3939feed",
   "metadata": {},
   "outputs": [
    {
     "name": "stdout",
     "output_type": "stream",
     "text": [
      "      * \n",
      "    * * * \n",
      "  * * * * * \n",
      "* * * * * * * \n"
     ]
    }
   ],
   "source": [
    "rows=4\n",
    "for i in range(1,rows+1):\n",
    "    for j in range(rows-i):\n",
    "        print(' ',end=\" \")\n",
    "    for k in range(2*i-1):\n",
    "        print('*',end=\" \")\n",
    "    print()"
   ]
  },
  {
   "cell_type": "code",
   "execution_count": 38,
   "id": "97c29c28-1055-4596-aac0-1d72c7f71807",
   "metadata": {},
   "outputs": [
    {
     "name": "stdout",
     "output_type": "stream",
     "text": [
      "* * * * * * * \n",
      "  * * * * * \n",
      "    * * * \n",
      "      * \n"
     ]
    }
   ],
   "source": [
    "rows=4\n",
    "for i in range(rows,0,-1):\n",
    "    for j in range(rows-i):\n",
    "        print(' ',end=\" \")\n",
    "    for k in range(2*i-1):\n",
    "        print('*',end=\" \")\n",
    "    print()"
   ]
  },
  {
   "cell_type": "code",
   "execution_count": 40,
   "id": "ee12c19b-7b9f-45cc-b4b7-455a35de9f1a",
   "metadata": {},
   "outputs": [
    {
     "name": "stdout",
     "output_type": "stream",
     "text": [
      "* \n",
      "* * \n",
      "* * * \n",
      "* * * * \n",
      "* * * * * \n"
     ]
    }
   ],
   "source": [
    "rows=5\n",
    "for i in range(1,rows+1):\n",
    "    for j in range(1,i+1):\n",
    "        print('*',end=\" \")\n",
    "    print()"
   ]
  },
  {
   "cell_type": "code",
   "execution_count": 42,
   "id": "457b3cb5-f4bd-4a5a-bd70-35d3310abdbc",
   "metadata": {},
   "outputs": [
    {
     "name": "stdout",
     "output_type": "stream",
     "text": [
      "* \n",
      "* * \n",
      "* * * \n",
      "* * * * \n",
      "* * * * * \n"
     ]
    }
   ],
   "source": [
    "rows=5\n",
    "for i in range(1,rows+1):\n",
    "    for j in range(i):\n",
    "        print('*',end=\" \")\n",
    "    print()"
   ]
  },
  {
   "cell_type": "code",
   "execution_count": 44,
   "id": "dd52abe0-f260-4d9b-bde6-5d5e8b6c2873",
   "metadata": {},
   "outputs": [
    {
     "name": "stdout",
     "output_type": "stream",
     "text": [
      "      * \n",
      "    * * \n",
      "  * * * \n",
      "* * * * \n"
     ]
    }
   ],
   "source": [
    "rows=4\n",
    "for i in range(1,rows+1):\n",
    "    for j in range(rows-i):\n",
    "        print(' ',end=\" \")\n",
    "    for k in range(i):\n",
    "        print('*',end=\" \")\n",
    "    print()"
   ]
  },
  {
   "cell_type": "code",
   "execution_count": 58,
   "id": "5eb52012-a674-4650-9e31-9faa5f3f0bbf",
   "metadata": {},
   "outputs": [
    {
     "name": "stdout",
     "output_type": "stream",
     "text": [
      "* * * * \n",
      "* * * \n",
      "* * \n",
      "* \n"
     ]
    }
   ],
   "source": [
    "rows=4\n",
    "for i in range(rows):\n",
    "    for j in range(rows-i):\n",
    "        print('*',end=\" \")\n",
    "    print()\n",
    "    "
   ]
  },
  {
   "cell_type": "code",
   "execution_count": 56,
   "id": "61103aa2-45d9-483e-8b15-519c7393db31",
   "metadata": {},
   "outputs": [
    {
     "name": "stdout",
     "output_type": "stream",
     "text": [
      "* * * * * * \n",
      "* * * * * * \n",
      "* * * * * * \n"
     ]
    }
   ],
   "source": [
    "rows=3\n",
    "cols=6\n",
    "for i in range(rows):\n",
    "    for j in range(cols):\n",
    "        print('*',end=\" \")\n",
    "    print()"
   ]
  },
  {
   "cell_type": "code",
   "execution_count": 64,
   "id": "4c6f195b-aaf0-4d80-b755-7da33bb2eb6c",
   "metadata": {},
   "outputs": [
    {
     "name": "stdout",
     "output_type": "stream",
     "text": [
      "        *****\n",
      "      *****\n",
      "    *****\n",
      "  *****\n",
      "*****\n"
     ]
    }
   ],
   "source": [
    "rows=5\n",
    "for i in range(1,rows+1):\n",
    "    for j in range(rows-i):\n",
    "        print(' ',end=\" \")\n",
    "    print('*'*rows)\n",
    "     "
   ]
  },
  {
   "cell_type": "code",
   "execution_count": 68,
   "id": "318d7548-7b8f-4b66-9e41-99807649bdd4",
   "metadata": {},
   "outputs": [
    {
     "name": "stdout",
     "output_type": "stream",
     "text": [
      "      1 2 3 4 \n",
      "    1 2 3 4 \n",
      "  1 2 3 4 \n",
      "1 2 3 4 \n"
     ]
    }
   ],
   "source": [
    "rows=4\n",
    "for i in range(1,rows+1):\n",
    "    for j in range(rows-i):\n",
    "        print(' ',end=\" \")\n",
    "    for k in range(1,rows+1):\n",
    "        print(k,end=\" \")\n",
    "    print()"
   ]
  },
  {
   "cell_type": "code",
   "execution_count": 76,
   "id": "18452c84-f3eb-44eb-83a9-b279effdf40d",
   "metadata": {},
   "outputs": [
    {
     "name": "stdout",
     "output_type": "stream",
     "text": [
      "1 \n",
      "2 2 \n",
      "3 3 3 \n",
      "4 4 4 4 \n",
      "5 5 5 5 5 \n",
      "6 6 6 6 6 6 \n"
     ]
    }
   ],
   "source": [
    "rows=6\n",
    "for i in range(1,rows+1):\n",
    "    for j in range(i):\n",
    "        print(i,end=\" \")\n",
    "    print()"
   ]
  },
  {
   "cell_type": "code",
   "execution_count": 78,
   "id": "c3fb1630-ae90-4fd2-80d8-41c793bda0d0",
   "metadata": {},
   "outputs": [
    {
     "name": "stdout",
     "output_type": "stream",
     "text": [
      "1 \n",
      "1 2 \n",
      "1 2 3 \n",
      "1 2 3 4 \n",
      "1 2 3 4 5 \n",
      "1 2 3 4 5 6 \n"
     ]
    }
   ],
   "source": [
    "rows=6\n",
    "for i in range(1,rows+1):\n",
    "    for j in range(1,i+1):\n",
    "        print(j,end=\" \")\n",
    "    print()"
   ]
  },
  {
   "cell_type": "code",
   "execution_count": 80,
   "id": "eef29b09-0c51-44b3-b559-1ef446e26c07",
   "metadata": {},
   "outputs": [
    {
     "name": "stdout",
     "output_type": "stream",
     "text": [
      "0 \n",
      "0 1 \n",
      "0 1 2 \n",
      "0 1 2 3 \n",
      "0 1 2 3 4 \n",
      "0 1 2 3 4 5 \n"
     ]
    }
   ],
   "source": [
    "rows=6\n",
    "for i in range(1,rows+1):\n",
    "    for j in range(i):\n",
    "        print(j,end=\" \")\n",
    "    print()"
   ]
  },
  {
   "cell_type": "code",
   "execution_count": 82,
   "id": "d438f4d8-8f7e-4cae-ad76-09a9d032132f",
   "metadata": {},
   "outputs": [
    {
     "name": "stdout",
     "output_type": "stream",
     "text": [
      "1 1 1 1 1 1 \n",
      "2 2 2 2 2 \n",
      "3 3 3 3 \n",
      "4 4 4 \n",
      "5 5 \n",
      "6 \n"
     ]
    }
   ],
   "source": [
    "rows=6\n",
    "b=0\n",
    "for i in range(rows,0,-1):\n",
    "    b+=1\n",
    "    for j in range(1,i+1):\n",
    "        print(b,end=\" \")\n",
    "    print()\n",
    "    "
   ]
  },
  {
   "cell_type": "code",
   "execution_count": 84,
   "id": "ce443109-b21d-4847-b9c2-5c5a1c3de166",
   "metadata": {},
   "outputs": [
    {
     "name": "stdout",
     "output_type": "stream",
     "text": [
      "5 5 5 5 5 \n",
      "5 5 5 5 \n",
      "5 5 5 \n",
      "5 5 \n",
      "5 \n"
     ]
    }
   ],
   "source": [
    "rows=5\n",
    "for i in range(rows,0,-1):\n",
    "    for j in range(i):\n",
    "        print('5',end=\" \")\n",
    "    print()\n"
   ]
  },
  {
   "cell_type": "code",
   "execution_count": null,
   "id": "cef4a90e-5065-470a-a76e-a8ea6bfc1602",
   "metadata": {},
   "outputs": [],
   "source": []
  }
 ],
 "metadata": {
  "kernelspec": {
   "display_name": "Python 3 (ipykernel)",
   "language": "python",
   "name": "python3"
  },
  "language_info": {
   "codemirror_mode": {
    "name": "ipython",
    "version": 3
   },
   "file_extension": ".py",
   "mimetype": "text/x-python",
   "name": "python",
   "nbconvert_exporter": "python",
   "pygments_lexer": "ipython3",
   "version": "3.12.4"
  }
 },
 "nbformat": 4,
 "nbformat_minor": 5
}
