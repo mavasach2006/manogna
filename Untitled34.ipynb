{
 "cells": [
  {
   "cell_type": "code",
   "execution_count": 22,
   "id": "ecb8bf7f-a15f-48a7-b43b-1a41a07f2ac0",
   "metadata": {},
   "outputs": [
    {
     "ename": "SyntaxError",
     "evalue": "'continue' not properly in loop (3612610193.py, line 9)",
     "output_type": "error",
     "traceback": [
      "\u001b[1;36m  Cell \u001b[1;32mIn[22], line 9\u001b[1;36m\u001b[0m\n\u001b[1;33m    continue\u001b[0m\n\u001b[1;37m    ^\u001b[0m\n\u001b[1;31mSyntaxError\u001b[0m\u001b[1;31m:\u001b[0m 'continue' not properly in loop\n"
     ]
    }
   ],
   "source": [
    "import random\n",
    "\n",
    "def guess_the_number():\n",
    "    guess=int(input(\"enter the numbers:\"))\n",
    "    computer_guess=random.int(1,100)\n",
    "    attempts=0\n",
    "    if not guess. isdigit():\n",
    "        print(\"invalid!enter correct guess\")\n",
    "        continue  \n",
    "    guess=input( guess)\n",
    "    attempts+=1\n",
    "    if guess>computer_guess:\n",
    "        print(\"too high!\")\n",
    "    elif guess<computer_guess:\n",
    "        print(\"too low!\")\n",
    "    else:\n",
    "        print(f\"congratulation!you guessed correct{attempts}attempts\")\n",
    "        break\n",
    "guess_the_number()\n",
    "    "
   ]
  },
  {
   "cell_type": "code",
   "execution_count": null,
   "id": "41657d24-4c61-4872-b11d-763d725652a1",
   "metadata": {},
   "outputs": [],
   "source": [
    "def factorial(n):\n",
    "    if n==0 or n==1\n",
    "        return 1\n",
    "    else:\n",
    "        return n*factorial(n-1)"
   ]
  },
  {
   "cell_type": "code",
   "execution_count": null,
   "id": "f3e732ef-e630-4c42-81e6-4bd5b8cfe773",
   "metadata": {},
   "outputs": [],
   "source": []
  }
 ],
 "metadata": {
  "kernelspec": {
   "display_name": "Python 3 (ipykernel)",
   "language": "python",
   "name": "python3"
  },
  "language_info": {
   "codemirror_mode": {
    "name": "ipython",
    "version": 3
   },
   "file_extension": ".py",
   "mimetype": "text/x-python",
   "name": "python",
   "nbconvert_exporter": "python",
   "pygments_lexer": "ipython3",
   "version": "3.12.4"
  }
 },
 "nbformat": 4,
 "nbformat_minor": 5
}
