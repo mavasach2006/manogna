{
 "cells": [
  {
   "cell_type": "code",
   "execution_count": 1,
   "id": "753918e5-cc65-475b-898f-d9c0adc685a3",
   "metadata": {},
   "outputs": [
    {
     "name": "stdout",
     "output_type": "stream",
     "text": [
      "Sorted Array in Ascending Order:\n",
      "[-9, -2, 0, 11, 45]\n"
     ]
    }
   ],
   "source": [
    "def selectionSort(array, size):\n",
    "    for step in range(size):\n",
    "        min_idx = step\n",
    "        for i in range(step + 1, size):\n",
    "            if array[i] < array[min_idx]:\n",
    "                min_idx = i\n",
    "        (array[step], array[min_idx]) = (array[min_idx], array[step])\n",
    "data = [-2, 45, 0, 11, -9]\n",
    "size = len(data)\n",
    "selectionSort(data, size)\n",
    "print('Sorted Array in Ascending Order:')\n",
    "print(data)"
   ]
  },
  {
   "cell_type": "code",
   "execution_count": 24,
   "id": "bc47c3bd-6bb7-42a8-ba43-8c5ec7dafcb3",
   "metadata": {},
   "outputs": [
    {
     "name": "stdout",
     "output_type": "stream",
     "text": [
      "Sorted Array in ascending Order:\n",
      "[-9, -2, 45, 0, 11]\n"
     ]
    }
   ],
   "source": [
    "def selectionSort(a,n):   \n",
    "    for i in range(n-1):\n",
    "        min= i\n",
    "        for j in range(i + 1, n):\n",
    "            if a[j] < a[min]:\n",
    "                min= j\n",
    "        (a[i], a[j]) = (a[j], a[i])\n",
    "\n",
    "\n",
    "data = [-2, 45, 0, 11, -9]\n",
    "n = len(data)\n",
    "selectionSort(data, n)\n",
    "print('Sorted Array in ascending Order:')\n",
    "print(data)"
   ]
  },
  {
   "cell_type": "code",
   "execution_count": 22,
   "id": "b7df6e8e-47f2-4823-afac-e708ac5db5f0",
   "metadata": {},
   "outputs": [
    {
     "name": "stdout",
     "output_type": "stream",
     "text": [
      "Sorted Array in ascending Order:\n",
      "[-9, -2, 45, 0, 11]\n"
     ]
    }
   ],
   "source": [
    "def selectionSort(a,n):   \n",
    "    for i in range(n-1):\n",
    "        min= i\n",
    "        for j in range(i + 1, n):\n",
    "            if a[j] < a[min]:\n",
    "                min= j\n",
    "        (a[i], a[j]) = (a[j], a[i])\n",
    "data = [-2, 45, 0, 11, -9]\n",
    "n = len(data)\n",
    "selectionSort(data, n)\n",
    "print('Sorted Array in ascending Order:')\n",
    "print(data)"
   ]
  },
  {
   "cell_type": "code",
   "execution_count": null,
   "id": "3c247c90-955d-4c34-b514-aee9939acd07",
   "metadata": {},
   "outputs": [],
   "source": []
  },
  {
   "cell_type": "code",
   "execution_count": null,
   "id": "6a6d34f6-a3ba-46bf-972f-6c0b0a1dd05c",
   "metadata": {},
   "outputs": [],
   "source": []
  }
 ],
 "metadata": {
  "kernelspec": {
   "display_name": "Python 3 (ipykernel)",
   "language": "python",
   "name": "python3"
  },
  "language_info": {
   "codemirror_mode": {
    "name": "ipython",
    "version": 3
   },
   "file_extension": ".py",
   "mimetype": "text/x-python",
   "name": "python",
   "nbconvert_exporter": "python",
   "pygments_lexer": "ipython3",
   "version": "3.12.4"
  }
 },
 "nbformat": 4,
 "nbformat_minor": 5
}
