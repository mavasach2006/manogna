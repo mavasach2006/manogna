{
 "cells": [
  {
   "cell_type": "code",
   "execution_count": 3,
   "id": "877c24cb-27cc-4b27-ae46-89f3ddaa2e9c",
   "metadata": {},
   "outputs": [
    {
     "name": "stdout",
     "output_type": "stream",
     "text": [
      "[11, 12, 13, 5, 6]\n",
      "[11, 12, 13, 5, 6]\n",
      "[5, 11, 12, 13, 6]\n",
      "[5, 6, 11, 12, 13]\n",
      "[5, 6, 11, 12, 13]\n"
     ]
    }
   ],
   "source": [
    "def insertionSort(arr):\n",
    "    n = len(arr)  # Get the length of the array\n",
    "      \n",
    "    if n <= 1:\n",
    "        return  # If the array has 0 or 1 element, it is already sorted, so return\n",
    " \n",
    "    for i in range(1, n):  # Iterate over the array starting from the second element\n",
    "        key = arr[i]  # Store the current element as the key to be inserted in the right position\n",
    "        j = i-1\n",
    "        while j >= 0 and key < arr[j]:  # Move elements greater than key one position ahead\n",
    "            arr[j+1] = arr[j]  # Shift elements to the right\n",
    "            j -= 1\n",
    "        arr[j+1] = key  # Insert the key in the correct position\n",
    "        print(arr)\n",
    "# Sorting the array [12, 11, 13, 5, 6] using insertionSort\n",
    "arr = [12, 11, 13, 5, 6]\n",
    "insertionSort(arr)\n",
    "print(arr)"
   ]
  },
  {
   "cell_type": "code",
   "execution_count": 17,
   "id": "4dcd95cb-e0fe-428a-a42b-eb98d0a5c1d4",
   "metadata": {},
   "outputs": [
    {
     "name": "stdout",
     "output_type": "stream",
     "text": [
      "[34, 56, 89, 12]\n",
      "[34, 56, 89, 12]\n",
      "[34, 12, 56, 89]\n",
      "[34, 12, 56, 89]\n"
     ]
    }
   ],
   "source": [
    "def insertionsort(list):\n",
    "    for i in range(1,len(list)):\n",
    "        key=list[i]\n",
    "        j=i-1\n",
    "        while j>0 and key<list[j]:\n",
    "            list[j+1]=list[j]\n",
    "            j-=1\n",
    "        list[j+1]=key\n",
    "        print(list)\n",
    "list=[34,56,89,12]\n",
    "insertionsort(list)\n",
    "print(list)"
   ]
  },
  {
   "cell_type": "code",
   "execution_count": 41,
   "id": "ecf78f01-3b5d-46f5-bd29-050f6bda6aa7",
   "metadata": {},
   "outputs": [
    {
     "name": "stdout",
     "output_type": "stream",
     "text": [
      "list after 3rd pass:[34, 12, 56, 89]\n",
      "[34, 12, 56, 89]\n"
     ]
    }
   ],
   "source": [
    "def insertionsort(list):\n",
    "    for i in range(1,len(list)):\n",
    "        key=list[i]\n",
    "        j=i-1\n",
    "        while j>0 and key<list[j]:\n",
    "            list[j+1]=list[j]\n",
    "            j-=1\n",
    "        list[j+1]=key\n",
    "        if i==3:\n",
    "            print(f\"list after 3rd pass:{list}\")        \n",
    "list=[34,56,89,12]\n",
    "insertionsort(list)\n",
    "print(list)"
   ]
  },
  {
   "cell_type": "code",
   "execution_count": 47,
   "id": "43ac0f3d-714c-4e7c-a7cd-0b916e775304",
   "metadata": {},
   "outputs": [
    {
     "name": "stdout",
     "output_type": "stream",
     "text": [
      "[34, 56, 89, 12, 50]\n",
      "[34, 56, 89, 12, 50]\n",
      "[34, 12, 56, 89, 50]\n",
      "[34, 12, 50, 56, 89]\n",
      "[34, 12, 50, 56, 89]\n"
     ]
    }
   ],
   "source": [
    "def insertionsort(list,insert):\n",
    "    list.append(insert)\n",
    "    for i in range(1,len(list)):\n",
    "        key=list[i]\n",
    "        j=i-1\n",
    "        while j>0 and key<list[j]:\n",
    "            list[j+1]=list[j]\n",
    "            j-=1\n",
    "        list[j+1]=key\n",
    "        print(list)\n",
    "list=[34,56,89,12]\n",
    "insert=50\n",
    "insertionsort(list,insert)\n",
    "print(list)"
   ]
  },
  {
   "cell_type": "code",
   "execution_count": null,
   "id": "f36d4f64-e60e-4f9f-adbb-ee7d62ab1c75",
   "metadata": {},
   "outputs": [],
   "source": []
  }
 ],
 "metadata": {
  "kernelspec": {
   "display_name": "Python 3 (ipykernel)",
   "language": "python",
   "name": "python3"
  },
  "language_info": {
   "codemirror_mode": {
    "name": "ipython",
    "version": 3
   },
   "file_extension": ".py",
   "mimetype": "text/x-python",
   "name": "python",
   "nbconvert_exporter": "python",
   "pygments_lexer": "ipython3",
   "version": "3.12.4"
  }
 },
 "nbformat": 4,
 "nbformat_minor": 5
}
