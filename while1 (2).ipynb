{
 "cells": [
  {
   "cell_type": "code",
   "execution_count": 13,
   "id": "1049c129-317e-4883-a680-ed5c83020251",
   "metadata": {},
   "outputs": [
    {
     "name": "stdin",
     "output_type": "stream",
     "text": [
      "enter the value 2\n",
      "enter the value 1\n"
     ]
    },
    {
     "name": "stdout",
     "output_type": "stream",
     "text": [
      "-3\n"
     ]
    }
   ],
   "source": [
    "n=int(input(\"enter the value\"))\n",
    "x=int(input(\"enter the value\"))\n",
    "i=0\n",
    "sum=0\n",
    "while i<=n:\n",
    "    sum +=(x)**i*(-1)*i\n",
    "    i=i+1\n",
    "print(sum)"
   ]
  },
  {
   "cell_type": "markdown",
   "id": "b4b04c84-519e-467f-b3df-f5d1c96a9787",
   "metadata": {},
   "source": [
    "n=int(input(\"enter the number\"))\n",
    "a=int(input(\"enter the number\"))\n",
    "r=int(input(\"enter the number\"))\n",
    "i=0\n",
    "sum=0\n",
    "while \n",
    "\n",
    "\n"
   ]
  },
  {
   "cell_type": "code",
   "execution_count": 20,
   "id": "514d8744-d47c-4a08-b0bf-06af9844555a",
   "metadata": {},
   "outputs": [
    {
     "name": "stdin",
     "output_type": "stream",
     "text": [
      "enter the number 4\n",
      "enter the number 2\n",
      "enter the number 1\n"
     ]
    },
    {
     "name": "stdout",
     "output_type": "stream",
     "text": [
      "8\n"
     ]
    }
   ],
   "source": [
    "n=int(input(\"enter the number\"))\n",
    "a=int(input(\"enter the number\"))\n",
    "r=int(input(\"enter the number\"))\n",
    "i=1\n",
    "sum=0\n",
    "while i<=n:\n",
    "    sum+=a*r**i\n",
    "    i=i+1\n",
    "print(sum)"
   ]
  },
  {
   "cell_type": "code",
   "execution_count": 33,
   "id": "89103512-40af-406c-8b2a-b96e22d0180a",
   "metadata": {},
   "outputs": [
    {
     "name": "stdin",
     "output_type": "stream",
     "text": [
      "enter the number 5\n"
     ]
    },
    {
     "name": "stdout",
     "output_type": "stream",
     "text": [
      "240\n"
     ]
    }
   ],
   "source": [
    "n=int(input(\"enter the number\"))\n",
    "fact=2\n",
    "if n<=0:\n",
    "    fact=2\n",
    "else:\n",
    "    i=1\n",
    "    while i<=n:\n",
    "        fact=fact*i\n",
    "        i=i+1\n",
    "print(fact)"
   ]
  },
  {
   "cell_type": "code",
   "execution_count": 53,
   "id": "f5071d63-69ed-44d5-a57b-9e5d893294fe",
   "metadata": {},
   "outputs": [
    {
     "name": "stdin",
     "output_type": "stream",
     "text": [
      "enter the number 2\n",
      "enter the number 1\n"
     ]
    },
    {
     "name": "stdout",
     "output_type": "stream",
     "text": [
      "1.5\n"
     ]
    }
   ],
   "source": [
    "n=int(input(\"enter the number\"))\n",
    "x=int(input(\"enter the number\"))\n",
    "i=1\n",
    "sum=0\n",
    "fact=1\n",
    "while i<=n:\n",
    "    sum+=x**i/fact\n",
    "    i=i+1\n",
    "    fact=fact*i\n",
    "print(sum)\n"
   ]
  },
  {
   "cell_type": "code",
   "execution_count": 59,
   "id": "65f5642f-2d5c-418c-ab40-72bf087f3561",
   "metadata": {},
   "outputs": [
    {
     "name": "stdin",
     "output_type": "stream",
     "text": [
      "enter the number -22\n"
     ]
    },
    {
     "name": "stdout",
     "output_type": "stream",
     "text": [
      "the number is negative\n"
     ]
    }
   ],
   "source": [
    "n=int(input(\"enter the number\"))\n",
    "if n>=0:\n",
    "    if n==0:\n",
    "        print(\"the number is zero\")\n",
    "    else:\n",
    "        print(\"the number is positive\")\n",
    "else:\n",
    "    print(\"the number is negative\")\n"
   ]
  },
  {
   "cell_type": "code",
   "execution_count": null,
   "id": "d20bcc6d-16e4-4217-b6c6-f3e3653d3ffc",
   "metadata": {},
   "outputs": [],
   "source": [
    "n=int(input(\"enter the number\"))\n",
    "if n>=0:\n",
    "    if n%2==0:\n",
    "        print(\"the number is even and positive\")\n",
    "    else:\n",
    "        print(\"the number is odd and positive\")\n",
    "else:\n",
    "    if num\n",
    "    print(\"the number is even and negative\")\n",
    "\n"
   ]
  },
  {
   "cell_type": "code",
   "execution_count": 63,
   "id": "312fd258-3a3f-4efa-ab75-6f3ece659b26",
   "metadata": {},
   "outputs": [
    {
     "name": "stdout",
     "output_type": "stream",
     "text": [
      "stop\n"
     ]
    }
   ],
   "source": [
    "def traffic(color):\n",
    "     match color:\n",
    "        case 'red':\n",
    "            return 'stop'\n",
    "        case 'yellow':\n",
    "            return 'wait'\n",
    "        case 'green':\n",
    "            return 'go'\n",
    "        case' _':\n",
    "            return 'invalid'\n",
    "print(traffic('red'))"
   ]
  },
  {
   "cell_type": "code",
   "execution_count": null,
   "id": "4761c7c5-a657-426e-abb6-a4a8ccb6a22f",
   "metadata": {},
   "outputs": [],
   "source": [
    "def function(operator a,b):\n",
    "    match operator :\n",
    "        case 'add':\n",
    "            return\n",
    "    "
   ]
  }
 ],
 "metadata": {
  "kernelspec": {
   "display_name": "Python 3 (ipykernel)",
   "language": "python",
   "name": "python3"
  },
  "language_info": {
   "codemirror_mode": {
    "name": "ipython",
    "version": 3
   },
   "file_extension": ".py",
   "mimetype": "text/x-python",
   "name": "python",
   "nbconvert_exporter": "python",
   "pygments_lexer": "ipython3",
   "version": "3.12.4"
  }
 },
 "nbformat": 4,
 "nbformat_minor": 5
}
