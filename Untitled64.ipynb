{
 "cells": [
  {
   "cell_type": "code",
   "execution_count": 5,
   "id": "ec234a19-c2ce-457c-9cc4-3bd4ace6daac",
   "metadata": {},
   "outputs": [
    {
     "name": "stdout",
     "output_type": "stream",
     "text": [
      "[10, 10, 10]\n",
      "[10, 10, 10]\n",
      "[10, 10, 10]\n"
     ]
    }
   ],
   "source": [
    "matrix1=[[1,2,3],\n",
    "         [4,5,6],\n",
    "         [7,8,9]]\n",
    "matrix2=[[9,8,7],\n",
    "        [6,5,4],\n",
    "        [3,2,1]]\n",
    "result=[[0,0,0],\n",
    "        [0,0,0],\n",
    "        [0,0,0]]\n",
    "for i in range(len(matrix1)):\n",
    "    for j in range(len(matrix2[0])):\n",
    "        result[i][j]+=matrix1[i][j]+matrix2[i][j]\n",
    "for row in result:\n",
    "    print(row)"
   ]
  },
  {
   "cell_type": "code",
   "execution_count": 23,
   "id": "866643bc-ba9b-4775-b68a-9bd134114761",
   "metadata": {},
   "outputs": [
    {
     "ename": "SyntaxError",
     "evalue": "invalid syntax (3076425806.py, line 11)",
     "output_type": "error",
     "traceback": [
      "\u001b[1;36m  Cell \u001b[1;32mIn[23], line 11\u001b[1;36m\u001b[0m\n\u001b[1;33m    for j in range(len(matrix1[0]):\u001b[0m\n\u001b[1;37m                                  ^\u001b[0m\n\u001b[1;31mSyntaxError\u001b[0m\u001b[1;31m:\u001b[0m invalid syntax\n"
     ]
    }
   ],
   "source": [
    "matrix1=[[1,2,3],\n",
    "         [4,5,6],\n",
    "         [7,8,9]]\n",
    "matrix2=[[1,2,3],\n",
    "         [4,5,6],\n",
    "         [7,8,9]]\n",
    "result=[[0,0,0],\n",
    "         [0,0,0],\n",
    "         [0,0,0]]\n",
    "for i in range(len(matrix1)):\n",
    "        for j in range(len(matrix1[0]):\n",
    "            for k in range(len(matrix2)):\n",
    "                result[i][j]+=matrix1[i][k]*matrix2[k][j]\n",
    "for row in result:\n",
    "    print(row)\n",
    "        "
   ]
  },
  {
   "cell_type": "code",
   "execution_count": 31,
   "id": "9edb3388-e87d-4f76-b855-1538dec7f517",
   "metadata": {},
   "outputs": [
    {
     "name": "stdout",
     "output_type": "stream",
     "text": [
      "[30, 36, 42]\n",
      "[66, 81, 96]\n",
      "[102, 126, 150]\n"
     ]
    }
   ],
   "source": [
    "matrix1=[[1,2,3],\n",
    "         [4,5,6],\n",
    "         [7,8,9]]\n",
    "matrix2=[[1,2,3],\n",
    "         [4,5,6],\n",
    "         [7,8,9]]\n",
    "result=[[0,0,0],\n",
    "         [0,0,0],\n",
    "         [0,0,0]]\n",
    "for i in range(len(matrix1)):\n",
    "        for j in range(len(matrix1[0])):\n",
    "            for k in range(len(matrix2)):\n",
    "                result[i][j]+=matrix1[i][k]*matrix2[k][j]\n",
    "for row in result:\n",
    "    print(row)      "
   ]
  },
  {
   "cell_type": "code",
   "execution_count": 39,
   "id": "62463bdf-7d93-4b78-a0a2-0652191cfc45",
   "metadata": {},
   "outputs": [
    {
     "name": "stdout",
     "output_type": "stream",
     "text": [
      "[1, 4, 7]\n",
      "[2, 5, 8]\n",
      "[3, 6, 9]\n"
     ]
    }
   ],
   "source": [
    "matrix1=[[1,2,3],\n",
    "         [4,5,6],\n",
    "         [7,8,9]]\n",
    "result=[[0,0,0],\n",
    "        [0,0,0],\n",
    "        [0,0,0]]\n",
    "for i in range(len(matrix1)):\n",
    "    for j in range(len(matrix1[0])):\n",
    "        result[i][j]=matrix1[j][i]\n",
    "for row in result:\n",
    "    print(row)"
   ]
  },
  {
   "cell_type": "code",
   "execution_count": 43,
   "id": "bb731d63-d58c-4b7d-b531-0ae22756f3b4",
   "metadata": {},
   "outputs": [
    {
     "name": "stdout",
     "output_type": "stream",
     "text": [
      "15\n",
      "15\n"
     ]
    }
   ],
   "source": [
    "matrix=[[1,2,3],[4,5,6],[7,8,9]]\n",
    "primary_diagonal_sum=0\n",
    "secondary_diagonal_sum=0\n",
    "for i in range(len(matrix)):\n",
    "    primary_diagonal_sum+=matrix[i][i]\n",
    "    secondary_diagonal_sum+=matrix[i][len(matrix)-i-1]\n",
    "print(primary_diagonal_sum)\n",
    "print(secondary_diagonal_sum)\n"
   ]
  },
  {
   "cell_type": "code",
   "execution_count": null,
   "id": "f9fc3d81-bd42-4b88-9b9f-709a3e1e30b2",
   "metadata": {},
   "outputs": [],
   "source": []
  }
 ],
 "metadata": {
  "kernelspec": {
   "display_name": "Python 3 (ipykernel)",
   "language": "python",
   "name": "python3"
  },
  "language_info": {
   "codemirror_mode": {
    "name": "ipython",
    "version": 3
   },
   "file_extension": ".py",
   "mimetype": "text/x-python",
   "name": "python",
   "nbconvert_exporter": "python",
   "pygments_lexer": "ipython3",
   "version": "3.12.4"
  }
 },
 "nbformat": 4,
 "nbformat_minor": 5
}
