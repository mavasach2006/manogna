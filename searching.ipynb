{
 "cells": [
  {
   "cell_type": "code",
   "execution_count": 1,
   "id": "dafa485b-65e4-4aad-9b31-06f1a2ad9127",
   "metadata": {},
   "outputs": [
    {
     "name": "stdout",
     "output_type": "stream",
     "text": [
      "found at 2\n"
     ]
    }
   ],
   "source": [
    "pos=-1\n",
    "def search(list,n):\n",
    "    i=0\n",
    "    while i<len(list):\n",
    "        if list[i]==n:\n",
    "            globals()['pos']=i\n",
    "            return True\n",
    "        i=i+1\n",
    "    return False\n",
    "list=[1,2,3,4]\n",
    "n=2\n",
    "if search(list,n):\n",
    "    print(\"found at\", pos+1)\n",
    "else:\n",
    "    print(\"not found\")"
   ]
  },
  {
   "cell_type": "code",
   "execution_count": null,
   "id": "c4b17258-387c-4c88-b0aa-b8d464555f12",
   "metadata": {},
   "outputs": [],
   "source": [
    "pos=-1\n",
    "def search(arr,n):\n",
    "    low=0\n",
    "    high=len(arr)-1\n",
    "    while low<=high:\n",
    "        mid=low+high//2\n",
    "        if mid==n:\n",
    "            globals()['pos']=mid\n",
    "            return True\n",
    "        elif n>mid:\n",
    "            low=mid+1\n",
    "        else:\n",
    "            high=mid\n",
    "arr=[4,7,8,9,10]\n",
    "n=4\n",
    "if search(arr,n):\n",
    "    print(\"found at\",pos+1)\n",
    "else:\n",
    "    print(\"not found\")"
   ]
  },
  {
   "cell_type": "code",
   "execution_count": null,
   "id": "3be0bc57-2e04-4079-a3f7-bb29619b1298",
   "metadata": {},
   "outputs": [],
   "source": [
    "def subset(n):\n",
    "    if len(n)==0:\n",
    "        return [[]]\n",
    "    smaller_subset=subset(s[1:])\n",
    "    return smaller_subset+[[s[0]]+ss for ss in smaller_subset]\n",
    "print(subset([1,2,3,4])"
   ]
  },
  {
   "cell_type": "code",
   "execution_count": null,
   "id": "771bf481-dd82-4e71-b1ff-d29c6d90d495",
   "metadata": {},
   "outputs": [],
   "source": []
  },
  {
   "cell_type": "code",
   "execution_count": null,
   "id": "225bbadf-c6e0-4f21-bd5f-a1bb864920f7",
   "metadata": {},
   "outputs": [],
   "source": []
  }
 ],
 "metadata": {
  "kernelspec": {
   "display_name": "Python 3 (ipykernel)",
   "language": "python",
   "name": "python3"
  },
  "language_info": {
   "codemirror_mode": {
    "name": "ipython",
    "version": 3
   },
   "file_extension": ".py",
   "mimetype": "text/x-python",
   "name": "python",
   "nbconvert_exporter": "python",
   "pygments_lexer": "ipython3",
   "version": "3.12.4"
  }
 },
 "nbformat": 4,
 "nbformat_minor": 5
}
