{
 "cells": [
  {
   "cell_type": "code",
   "execution_count": 1,
   "id": "5b03f42f-46ef-46a0-aeea-4555d303ae4a",
   "metadata": {},
   "outputs": [
    {
     "data": {
      "text/plain": [
       "11"
      ]
     },
     "execution_count": 1,
     "metadata": {},
     "output_type": "execute_result"
    }
   ],
   "source": [
    "string=\"hello world\"\n",
    "len(string)"
   ]
  },
  {
   "cell_type": "code",
   "execution_count": 19,
   "id": "1d28906e-a514-43a1-a877-2e5c39127127",
   "metadata": {},
   "outputs": [
    {
     "name": "stdout",
     "output_type": "stream",
     "text": [
      "olleh\n"
     ]
    }
   ],
   "source": [
    "string=\"hello\"\n",
    "rev=string[::-1]\n",
    "print(rev)"
   ]
  },
  {
   "cell_type": "code",
   "execution_count": 21,
   "id": "8ef6c2d4-ab5e-42fc-86d1-7df1ee04fb85",
   "metadata": {},
   "outputs": [
    {
     "name": "stdout",
     "output_type": "stream",
     "text": [
      "True\n"
     ]
    }
   ],
   "source": [
    "string=\"madam\"\n",
    "pal=string==string[::-1]\n",
    "print(pal)"
   ]
  },
  {
   "cell_type": "code",
   "execution_count": 25,
   "id": "4c3da46c-9d47-418b-88d4-0223fb2e564c",
   "metadata": {},
   "outputs": [
    {
     "name": "stdout",
     "output_type": "stream",
     "text": [
      "1\n"
     ]
    }
   ],
   "source": [
    "str=\"prog\"\n",
    "vowels=\"aeiouAEIOU\"\n",
    "count=sum(1 for char in str if char in vowels)\n",
    "print(count)"
   ]
  },
  {
   "cell_type": "code",
   "execution_count": 31,
   "id": "bcf58148-0b65-4e5f-8a07-e534b8ea54cd",
   "metadata": {},
   "outputs": [
    {
     "name": "stdout",
     "output_type": "stream",
     "text": [
      "['pyt', 'is', 'life']\n"
     ]
    }
   ],
   "source": [
    "str=\"pyt is life\"\n",
    "count=(str.split())\n",
    "print(count)"
   ]
  },
  {
   "cell_type": "code",
   "execution_count": 33,
   "id": "cc4704d1-a1dc-4d68-83a1-8d5554c8dc09",
   "metadata": {},
   "outputs": [
    {
     "name": "stdout",
     "output_type": "stream",
     "text": [
      "h e l l o w o r l d\n"
     ]
    }
   ],
   "source": [
    "import string\n",
    "input=\"hello,world!\"\n",
    "new=' '.join(char for char in input if char not in string.punctuation)\n",
    "print(new)"
   ]
  },
  {
   "cell_type": "code",
   "execution_count": 41,
   "id": "eaff3011-a6ca-41df-b243-56857dc0b4c6",
   "metadata": {},
   "outputs": [
    {
     "name": "stdout",
     "output_type": "stream",
     "text": [
      "[3, 4, 5, 1, 2]\n"
     ]
    }
   ],
   "source": [
    "a=[1,2,3,4,5]\n",
    "def rotate_list(a,n):\n",
    "    if not a:\n",
    "        return a\n",
    "    n%=len(a)\n",
    "    return a[-n:]+a[:-n]\n",
    "result=rotate_list(a,3)\n",
    "print(result)"
   ]
  },
  {
   "cell_type": "code",
   "execution_count": 45,
   "id": "6930d532-448e-44f1-9e65-d131734f8ad6",
   "metadata": {},
   "outputs": [
    {
     "name": "stdout",
     "output_type": "stream",
     "text": [
      "[5, 1, 2, 3, 4]\n"
     ]
    }
   ],
   "source": [
    "a=[1,2,3,4,5]\n",
    "b=a[-1:]+a[:-1]\n",
    "print(b)"
   ]
  },
  {
   "cell_type": "code",
   "execution_count": 53,
   "id": "d7ec45f4-2a5b-436b-bf55-85949c12a2f9",
   "metadata": {},
   "outputs": [
    {
     "name": "stdout",
     "output_type": "stream",
     "text": [
      "[2, 3, 4, 1]\n"
     ]
    }
   ],
   "source": [
    "a=[1,2,3,4]\n",
    "def rotation(a,n):\n",
    "    if not a:\n",
    "        return a\n",
    "    n%=len(a)\n",
    "    return a[-n:]+a[:-n]\n",
    "result=rotation(a,3)\n",
    "print(result)\n",
    "\n"
   ]
  },
  {
   "cell_type": "code",
   "execution_count": 55,
   "id": "cfa5dd3a-83bd-49ae-8187-4db13dfe89a2",
   "metadata": {},
   "outputs": [
    {
     "name": "stdout",
     "output_type": "stream",
     "text": [
      "[1, 2, 3, 4]\n"
     ]
    }
   ],
   "source": [
    "a=[1,2,3,4]\n",
    "def rotation(a,n):\n",
    "    if not a:\n",
    "        return a\n",
    "    n%=len(a)\n",
    "    return a[:-n]+a[-n:]\n",
    "result=rotation(a,3)\n",
    "print(result)\n"
   ]
  },
  {
   "cell_type": "code",
   "execution_count": 59,
   "id": "13df467c-a289-4618-829d-2ac919373a04",
   "metadata": {},
   "outputs": [
    {
     "name": "stdout",
     "output_type": "stream",
     "text": [
      "[4, 5, 6, 3]\n"
     ]
    }
   ],
   "source": [
    "a=[3,4,5,6]\n",
    "def rotation(a,n):\n",
    "    if not a:\n",
    "        return a\n",
    "    n%=len(a)\n",
    "    return a[-n:]+a[:-n]\n",
    "result=rotation(a,3)\n",
    "print(result)\n"
   ]
  },
  {
   "cell_type": "code",
   "execution_count": 71,
   "id": "f4f935d6-2622-4c17-be0a-1ef112dcae1e",
   "metadata": {},
   "outputs": [
    {
     "name": "stdout",
     "output_type": "stream",
     "text": [
      "[[2, 4, 6], [4, 6, 8], [6, 8, 10]]\n"
     ]
    }
   ],
   "source": [
    "a=[[1,2,3], [2,3,4], [3,4,5]]\n",
    "b=[[1,2,3], [2,3,4] ,[3,4,5]]\n",
    "c=[[0,0,0], [0,0,0], [0,0,0]]\n",
    "for i in range (len(a)):\n",
    "    for j in range (len(a[0])):\n",
    "        c[i][j]=a[i][j]+b[i][j]\n",
    "print(c)\n",
    "   "
   ]
  },
  {
   "cell_type": "code",
   "execution_count": 73,
   "id": "43f7f1df-579c-4506-b1e7-8e9d54da0e64",
   "metadata": {},
   "outputs": [
    {
     "name": "stdout",
     "output_type": "stream",
     "text": [
      "[[2, 4, 6], [4, 6, 8], [6, 8, 10]]\n"
     ]
    }
   ],
   "source": [
    "a=[[1,2,3], [2,3,4], [3,4,5]]\n",
    "b=2\n",
    "for i in range (len(a)):\n",
    "    for j in range (len(a[0])):\n",
    "        a[i][j]=b*a[i][j]\n",
    "print(a)\n",
    "   "
   ]
  },
  {
   "cell_type": "code",
   "execution_count": 75,
   "id": "25998f51-4bb7-4a9b-93ee-dace8d6f7055",
   "metadata": {},
   "outputs": [
    {
     "name": "stdout",
     "output_type": "stream",
     "text": [
      "[[1, 4, 9], [4, 9, 16], [9, 16, 25]]\n"
     ]
    }
   ],
   "source": [
    "a=[[1,2,3], [2,3,4], [3,4,5]]\n",
    "b=[[1,2,3], [2,3,4] ,[3,4,5]]\n",
    "c=[[0,0,0], [0,0,0], [0,0,0]]\n",
    "for i in range (len(a)):\n",
    "    for j in range (len(a[0])):\n",
    "        c[i][j]=a[i][j]*b[i][j]\n",
    "print(c)\n",
    "   "
   ]
  },
  {
   "cell_type": "code",
   "execution_count": 77,
   "id": "e1dc58a2-2800-41a4-9714-5213cf6d2750",
   "metadata": {},
   "outputs": [
    {
     "name": "stdout",
     "output_type": "stream",
     "text": [
      "[[1, 2, 3], [2, 3, 4], [3, 4, 5]]\n"
     ]
    }
   ],
   "source": [
    "a=[[1,2,3], [2,3,4], [3,4,5]]\n",
    "c=[[0,0,0], [0,0,0], [0,0,0]]\n",
    "for i in range (len(a)):\n",
    "    for j in range (len(a[0])):\n",
    "        c[i][j]=a[j][i]\n",
    "print(c)\n",
    "   "
   ]
  },
  {
   "cell_type": "code",
   "execution_count": 83,
   "id": "92893d1d-e34f-4c46-a44d-7d25c6e28ea0",
   "metadata": {},
   "outputs": [
    {
     "name": "stdout",
     "output_type": "stream",
     "text": [
      "9\n",
      "9\n"
     ]
    }
   ],
   "source": [
    "a=[[1,2,3], [2,3,4], [3,4,5]]\n",
    "pri_sum=0\n",
    "sec_sum=0\n",
    "for i in range(len(a)):\n",
    "    pri_sum=pri_sum+a[i][i]\n",
    "    sec_sum=sec_sum+a[i][i-1]\n",
    "print(pri_sum)\n",
    "print(sec_sum)"
   ]
  },
  {
   "cell_type": "code",
   "execution_count": 102,
   "id": "a1c6360c-1a91-492f-8ae8-31ad99e4c4c3",
   "metadata": {},
   "outputs": [],
   "source": [
    "rows=0\n",
    "cols=0\n",
    "matrix=[]\n",
    "num=1\n",
    "for i in range(rows):\n",
    "    rows=[]\n",
    "    for j in range(cols):\n",
    "        rows.append(num)\n",
    "        num+=1\n",
    "    matrix.append(rows)\n",
    "for rows in matrix:\n",
    "    print(rows)"
   ]
  },
  {
   "cell_type": "code",
   "execution_count": 104,
   "id": "98d12457-d678-405a-92ab-09431f4915ba",
   "metadata": {},
   "outputs": [],
   "source": [
    "rows=0\n",
    "cols=0\n",
    "matrix=[]\n",
    "num=1\n",
    "for i in range(rows):\n",
    "    rows=[]\n",
    "    for j in range(cols):\n",
    "        rows.append(num)\n",
    "        num+=1\n",
    "    matrix.append(rows)\n",
    "for rows in matrix:\n",
    "    print(rows)"
   ]
  },
  {
   "cell_type": "code",
   "execution_count": null,
   "id": "3b09bc47-16c8-4aff-a684-5fd4db2a2898",
   "metadata": {},
   "outputs": [],
   "source": []
  }
 ],
 "metadata": {
  "kernelspec": {
   "display_name": "Python 3 (ipykernel)",
   "language": "python",
   "name": "python3"
  },
  "language_info": {
   "codemirror_mode": {
    "name": "ipython",
    "version": 3
   },
   "file_extension": ".py",
   "mimetype": "text/x-python",
   "name": "python",
   "nbconvert_exporter": "python",
   "pygments_lexer": "ipython3",
   "version": "3.12.4"
  }
 },
 "nbformat": 4,
 "nbformat_minor": 5
}
