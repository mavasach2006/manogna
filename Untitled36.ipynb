{
 "cells": [
  {
   "cell_type": "code",
   "execution_count": 1,
   "id": "79666c01-58ac-4a8d-a155-fa53b45180cd",
   "metadata": {},
   "outputs": [
    {
     "name": "stdout",
     "output_type": "stream",
     "text": [
      "['apple', 'banana', 'kiwi']\n"
     ]
    }
   ],
   "source": [
    "a=[\"apple\",\"banana\"]\n",
    "a.append(\"kiwi\")\n",
    "print(a)"
   ]
  },
  {
   "cell_type": "code",
   "execution_count": 3,
   "id": "814b63b9-603f-44f6-a435-bdd511da0a6a",
   "metadata": {},
   "outputs": [
    {
     "name": "stdout",
     "output_type": "stream",
     "text": [
      "['apple', 'banana', 'k', 'i', 'w', 'i']\n"
     ]
    }
   ],
   "source": [
    "a=[\"apple\",\"banana\"]\n",
    "a.extend(\"kiwi\")\n",
    "print(a)"
   ]
  },
  {
   "cell_type": "code",
   "execution_count": 56,
   "id": "38b8493c-f9d4-4e1a-9cf5-ec7ff536e623",
   "metadata": {},
   "outputs": [
    {
     "name": "stdout",
     "output_type": "stream",
     "text": [
      "apple\n",
      "banana\n"
     ]
    }
   ],
   "source": [
    "a=[\"apple\",\"banana\"]\n",
    "for i in a:\n",
    "    print(i)\n",
    "    \n",
    "    "
   ]
  },
  {
   "cell_type": "code",
   "execution_count": 39,
   "id": "9e2de730-1987-426d-8521-05979cec564e",
   "metadata": {},
   "outputs": [
    {
     "name": "stdout",
     "output_type": "stream",
     "text": [
      "[10, 20, 25, 30, 40, 50]\n"
     ]
    }
   ],
   "source": [
    "nums=[10,20,30,40,50]\n",
    "nums.insert(2,25)\n",
    "print(nums)"
   ]
  },
  {
   "cell_type": "code",
   "execution_count": null,
   "id": "8d5bfe6b-acaf-4d84-8d19-41c7010e58d9",
   "metadata": {},
   "outputs": [],
   "source": []
  }
 ],
 "metadata": {
  "kernelspec": {
   "display_name": "Python 3 (ipykernel)",
   "language": "python",
   "name": "python3"
  },
  "language_info": {
   "codemirror_mode": {
    "name": "ipython",
    "version": 3
   },
   "file_extension": ".py",
   "mimetype": "text/x-python",
   "name": "python",
   "nbconvert_exporter": "python",
   "pygments_lexer": "ipython3",
   "version": "3.12.4"
  }
 },
 "nbformat": 4,
 "nbformat_minor": 5
}
