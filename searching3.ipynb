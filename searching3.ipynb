{
 "cells": [
  {
   "cell_type": "code",
   "execution_count": 30,
   "id": "f923d97f-c081-4ec5-8d82-d6da5575c5db",
   "metadata": {},
   "outputs": [
    {
     "name": "stdout",
     "output_type": "stream",
     "text": [
      "1\n"
     ]
    }
   ],
   "source": [
    "def greater(list,n):\n",
    "    for i in range(len(list)):\n",
    "        if list[i]<n:\n",
    "            return list[i]\n",
    "    return None\n",
    "list=[1,4,7,8]\n",
    "n=4\n",
    "result=greater(list,n)\n",
    "print(result)"
   ]
  },
  {
   "cell_type": "code",
   "execution_count": 16,
   "id": "6ea0316b-9340-40b1-a65e-bd960c496066",
   "metadata": {},
   "outputs": [
    {
     "name": "stdout",
     "output_type": "stream",
     "text": [
      "The first element greater than 5 is 7.\n"
     ]
    }
   ],
   "source": [
    "def find_first_greater(arr, target):\n",
    "    for element in arr:\n",
    "        if element > target:\n",
    "            return element\n",
    "    return None  # Return None if no element is found greater than the target\n",
    "\n",
    "# Example usage:\n",
    "arr = [1, 3, 5, 7, 9]\n",
    "target = 5\n",
    "result = find_first_greater(arr, target)\n",
    "\n",
    "if result is not None:\n",
    "    print(f\"The first element greater than {target} is {result}.\")\n",
    "else:\n",
    "    print(f\"No element greater than {target} was found.\")\n"
   ]
  },
  {
   "cell_type": "code",
   "execution_count": null,
   "id": "fcaa963a-bac7-4685-881d-a19ef9b2bc60",
   "metadata": {},
   "outputs": [],
   "source": [
    "def binary"
   ]
  }
 ],
 "metadata": {
  "kernelspec": {
   "display_name": "Python 3 (ipykernel)",
   "language": "python",
   "name": "python3"
  },
  "language_info": {
   "codemirror_mode": {
    "name": "ipython",
    "version": 3
   },
   "file_extension": ".py",
   "mimetype": "text/x-python",
   "name": "python",
   "nbconvert_exporter": "python",
   "pygments_lexer": "ipython3",
   "version": "3.12.4"
  }
 },
 "nbformat": 4,
 "nbformat_minor": 5
}
