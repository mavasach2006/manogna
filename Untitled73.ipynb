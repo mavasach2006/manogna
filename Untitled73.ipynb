{
 "cells": [
  {
   "cell_type": "code",
   "execution_count": 87,
   "id": "3565d719-244c-47a8-aa7e-5078a3f2a27a",
   "metadata": {},
   "outputs": [
    {
     "name": "stdout",
     "output_type": "stream",
     "text": [
      "found at 4\n"
     ]
    }
   ],
   "source": [
    "pos=-1\n",
    "def search(list,n):\n",
    "    i=0\n",
    "    while(i<len(list)):\n",
    "        if list[i]==n:\n",
    "            globals()['pos']=i\n",
    "            return True\n",
    "        i=i+1\n",
    "    return False\n",
    "list=[1,2,3,4,5]\n",
    "n=4\n",
    "if search(list,n):\n",
    "    print('found at',pos+1)\n",
    "else:\n",
    "    print('notfound')\n",
    "            "
   ]
  },
  {
   "cell_type": "code",
   "execution_count": 39,
   "id": "dd24da1e-a5a3-4339-a0c8-7b36575d8e3b",
   "metadata": {},
   "outputs": [
    {
     "name": "stdout",
     "output_type": "stream",
     "text": [
      "found at 5\n"
     ]
    }
   ],
   "source": [
    "pos=-1\n",
    "def search(list,n):\n",
    "    for i in range(0,len(list)):\n",
    "        if list[i]==n:\n",
    "            globals()['pos']=i\n",
    "            return True\n",
    "    return False\n",
    "list=[1,2,3,4,5,6]\n",
    "n=5\n",
    "if search(list,n):\n",
    "    print('found at',pos+1)\n",
    "else:\n",
    "    print('notfound')\n",
    "            "
   ]
  },
  {
   "cell_type": "code",
   "execution_count": 103,
   "id": "8ec94e84-13a0-4c0a-ba06-e705e6b3d53f",
   "metadata": {},
   "outputs": [
    {
     "name": "stdout",
     "output_type": "stream",
     "text": [
      "found at 7\n"
     ]
    }
   ],
   "source": [
    "pos=-1\n",
    "def search(list,n,i=0):\n",
    "           if i>=len(list):\n",
    "               return -1\n",
    "           if list[i]==n:\n",
    "               globals()['pos']=i\n",
    "               return True\n",
    "           return search(list,n,i=i+1)\n",
    "list=[1,2,3,4,5,6,7]\n",
    "n=7\n",
    "if search(list,n):\n",
    "    print('found at',pos+1)\n",
    "else:\n",
    "    print('notfound')\n",
    "            "
   ]
  },
  {
   "cell_type": "code",
   "execution_count": 107,
   "id": "2e8d0ec9-a819-425d-a8b5-0ad3805ab8e0",
   "metadata": {},
   "outputs": [
    {
     "name": "stdout",
     "output_type": "stream",
     "text": [
      "found 2\n"
     ]
    }
   ],
   "source": [
    "pos=-1\n",
    "def search(list,n,i=0):\n",
    "    if i>=len(list):\n",
    "        return -1\n",
    "    if list[i]==n:\n",
    "        globals()['pos']=i\n",
    "        return True\n",
    "    return search(list,n,i=i+1)\n",
    "list=[4,2,7,1,9,3]\n",
    "n=7\n",
    "if search(list,n):\n",
    "    print('found', pos)\n",
    "else:\n",
    "    print('not found')"
   ]
  },
  {
   "cell_type": "code",
   "execution_count": 115,
   "id": "cafa7773-ea0e-4396-896f-f8ba5c59fff3",
   "metadata": {},
   "outputs": [
    {
     "name": "stdout",
     "output_type": "stream",
     "text": [
      "False\n"
     ]
    }
   ],
   "source": [
    "pos=-1\n",
    "def search(list,n):\n",
    "    i=0\n",
    "    while(i<len(list)):\n",
    "        if list[i]==n:\n",
    "            globals()['pos']=i\n",
    "            return True\n",
    "        i=i+1\n",
    "    return False\n",
    "list=[3,8,1,9]\n",
    "n=7\n",
    "if search(list,n):\n",
    "    print('True', pos)\n",
    "else:\n",
    "    print('False')"
   ]
  },
  {
   "cell_type": "code",
   "execution_count": 117,
   "id": "5143cc8c-4759-4d87-b7d8-30d5599804bb",
   "metadata": {},
   "outputs": [
    {
     "name": "stdout",
     "output_type": "stream",
     "text": [
      "found -1\n"
     ]
    }
   ],
   "source": [
    "pos=-1\n",
    "def search(list,n,i=0):\n",
    "    if i>=len(list):\n",
    "        return -1\n",
    "    if list[i]==n:\n",
    "        globals()['pos']=i\n",
    "        return True\n",
    "    return search(list,n,i=i+1)\n",
    "list=[]\n",
    "n=7\n",
    "if search(list,n):\n",
    "    print('found', pos)\n",
    "else:\n",
    "    print('not found')"
   ]
  },
  {
   "cell_type": "code",
   "execution_count": 151,
   "id": "63ff5ea1-ad11-4dba-8751-1352b7a3af26",
   "metadata": {},
   "outputs": [
    {
     "name": "stdout",
     "output_type": "stream",
     "text": [
      "True\n"
     ]
    }
   ],
   "source": [
    "pos=-1\n",
    "def search(list,n):\n",
    "    i=0\n",
    "    while(i<len(list)):\n",
    "        if list[i]==n:\n",
    "            globals()['pos']=i\n",
    "            return True\n",
    "        i=i+1\n",
    "    return False\n",
    "list=[1.5,2.3,3.8,5.1]\n",
    "n=2.3\n",
    "if search(list,n):\n",
    "    print('True')\n",
    "else:\n",
    "    print('False')"
   ]
  },
  {
   "cell_type": "code",
   "execution_count": 133,
   "id": "0ca47db1-a3e8-4d1e-b9a4-b51a665c5327",
   "metadata": {},
   "outputs": [
    {
     "ename": "UnboundLocalError",
     "evalue": "cannot access local variable 'times' where it is not associated with a value",
     "output_type": "error",
     "traceback": [
      "\u001b[1;31m---------------------------------------------------------------------------\u001b[0m",
      "\u001b[1;31mUnboundLocalError\u001b[0m                         Traceback (most recent call last)",
      "Cell \u001b[1;32mIn[133], line 14\u001b[0m\n\u001b[0;32m     12\u001b[0m \u001b[38;5;28mlist\u001b[39m\u001b[38;5;241m=\u001b[39m[\u001b[38;5;241m3\u001b[39m,\u001b[38;5;241m8\u001b[39m,\u001b[38;5;241m8\u001b[39m,\u001b[38;5;241m1\u001b[39m,\u001b[38;5;241m9\u001b[39m,\u001b[38;5;241m9\u001b[39m]\n\u001b[0;32m     13\u001b[0m n\u001b[38;5;241m=\u001b[39m\u001b[38;5;241m9\u001b[39m\n\u001b[1;32m---> 14\u001b[0m \u001b[38;5;28;01mif\u001b[39;00m search(\u001b[38;5;28mlist\u001b[39m,n):\n\u001b[0;32m     15\u001b[0m     \u001b[38;5;28mprint\u001b[39m(\u001b[38;5;124m'\u001b[39m\u001b[38;5;124mfound at\u001b[39m\u001b[38;5;124m'\u001b[39m, pos\u001b[38;5;241m+\u001b[39m\u001b[38;5;241m1\u001b[39m)\n\u001b[0;32m     16\u001b[0m \u001b[38;5;28;01melse\u001b[39;00m:\n",
      "Cell \u001b[1;32mIn[133], line 10\u001b[0m, in \u001b[0;36msearch\u001b[1;34m(list, n)\u001b[0m\n\u001b[0;32m      8\u001b[0m         \u001b[38;5;28;01mreturn\u001b[39;00m \u001b[38;5;28;01mTrue\u001b[39;00m\n\u001b[0;32m      9\u001b[0m     i\u001b[38;5;241m=\u001b[39mi\u001b[38;5;241m+\u001b[39m\u001b[38;5;241m1\u001b[39m\n\u001b[1;32m---> 10\u001b[0m     times\u001b[38;5;241m+\u001b[39m\u001b[38;5;241m=\u001b[39m\u001b[38;5;241m1\u001b[39m\n\u001b[0;32m     11\u001b[0m \u001b[38;5;28;01mreturn\u001b[39;00m \u001b[38;5;28;01mFalse\u001b[39;00m\n",
      "\u001b[1;31mUnboundLocalError\u001b[0m: cannot access local variable 'times' where it is not associated with a value"
     ]
    }
   ],
   "source": [
    "pos=-1\n",
    "times=-1\n",
    "def search(list,n):\n",
    "    i=0\n",
    "    while(i<len(list)):\n",
    "        if list[i]==n:\n",
    "            globals()['pos']=i\n",
    "            return True\n",
    "        i=i+1\n",
    "        times+=1\n",
    "    return False\n",
    "list=[3,8,8,1,9,9]\n",
    "n=9\n",
    "if search(list,n):\n",
    "    print('found at', pos+1)\n",
    "else:\n",
    "    print('not found')"
   ]
  },
  {
   "cell_type": "code",
   "execution_count": 147,
   "id": "1ad405df-f78f-4e7e-8bbe-2c2a0eda241a",
   "metadata": {},
   "outputs": [
    {
     "name": "stdout",
     "output_type": "stream",
     "text": [
      "2\n"
     ]
    }
   ],
   "source": [
    "def counting(list,n):\n",
    "    count=0\n",
    "    for i in list:\n",
    "        if i==n:\n",
    "            count+=1\n",
    "    return count\n",
    "list=[3,8,8,1,9,9,9]\n",
    "n=8\n",
    "print(counting(list,n))"
   ]
  },
  {
   "cell_type": "code",
   "execution_count": 161,
   "id": "8ec0ce87-2672-4ddb-ab99-d1faa75fe534",
   "metadata": {},
   "outputs": [
    {
     "name": "stdout",
     "output_type": "stream",
     "text": [
      "4\n"
     ]
    }
   ],
   "source": [
    "def max_fun(list,n):\n",
    "    if len(list)==0:\n",
    "        return none\n",
    "    max=list[0]\n",
    "    for i in list:\n",
    "        if i>max:\n",
    "            max=i\n",
    "    return max\n",
    "list=[1,2,3,4]\n",
    "print(max_fun(list,n))    "
   ]
  },
  {
   "cell_type": "code",
   "execution_count": null,
   "id": "6618de97-29d0-41f8-85e9-b4a19f146337",
   "metadata": {},
   "outputs": [],
   "source": []
  }
 ],
 "metadata": {
  "kernelspec": {
   "display_name": "Python 3 (ipykernel)",
   "language": "python",
   "name": "python3"
  },
  "language_info": {
   "codemirror_mode": {
    "name": "ipython",
    "version": 3
   },
   "file_extension": ".py",
   "mimetype": "text/x-python",
   "name": "python",
   "nbconvert_exporter": "python",
   "pygments_lexer": "ipython3",
   "version": "3.12.4"
  }
 },
 "nbformat": 4,
 "nbformat_minor": 5
}
