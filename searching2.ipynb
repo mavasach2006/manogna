{
 "cells": [
  {
   "cell_type": "code",
   "execution_count": null,
   "id": "8a7c2a7c-a6e5-4c77-9b66-5f6c529f7203",
   "metadata": {},
   "outputs": [],
   "source": [
    "def max(nums):\n",
    "    low=0\n",
    "    high=len(nums)-1\n",
    "    while low<=high:\n",
    "        mid=low+high//2\n",
    "        if nums[mid]>nums[mid+1] and mid<len(nums)-1:\n",
    "            return nums[mid]\n",
    "        elif nums[mid]<nums[high]:\n",
    "            high=mid+1\n",
    "        else:\n",
    "            low=mid-1\n",
    "    return nums[low]\n",
    "nums=[3,45,67,9]\n",
    "print(max(nums))"
   ]
  },
  {
   "cell_type": "code",
   "execution_count": null,
   "id": "c35f8e6b-dc63-4409-9d89-bfb4c4349e05",
   "metadata": {},
   "outputs": [],
   "source": [
    "def find_max(nums):\n",
    "    left, right = 0, len(nums) - 1\n",
    "    \n",
    "    # Binary search loop\n",
    "    while left <= right:\n",
    "        mid = (left + right) // 2\n",
    "        \n",
    "        # If the middle element is greater than the next one, then mid is the largest\n",
    "        if mid < len(nums) - 1 and nums[mid] > nums[mid + 1]:\n",
    "            return nums[mid]\n",
    "        \n",
    "        # If the middle element is smaller than the next one, the max is in the right half\n",
    "        elif nums[mid] < nums[right]:\n",
    "            right = mid - 1\n",
    "        else:\n",
    "            # If middle element is greater than the right element, the max is in the left half\n",
    "            left = mid + 1\n",
    "    \n",
    "    return nums[left]  # The loop will return this when the left pointer meets the right pointer\n",
    "\n",
    "# Example usage\n",
    "nums = [4, 5, 6, 7, 0, 1, 2]\n",
    "print(f\"Maximum number is: {find_max(nums)}\")  # Output: 7\n"
   ]
  },
  {
   "cell_type": "code",
   "execution_count": null,
   "id": "3dc5efc7-cdc9-47fc-911a-453bcf562b88",
   "metadata": {},
   "outputs": [],
   "source": []
  }
 ],
 "metadata": {
  "kernelspec": {
   "display_name": "Python 3 (ipykernel)",
   "language": "python",
   "name": "python3"
  },
  "language_info": {
   "codemirror_mode": {
    "name": "ipython",
    "version": 3
   },
   "file_extension": ".py",
   "mimetype": "text/x-python",
   "name": "python",
   "nbconvert_exporter": "python",
   "pygments_lexer": "ipython3",
   "version": "3.12.4"
  }
 },
 "nbformat": 4,
 "nbformat_minor": 5
}
