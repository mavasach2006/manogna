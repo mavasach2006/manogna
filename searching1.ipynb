{
 "cells": [
  {
   "cell_type": "code",
   "execution_count": 5,
   "id": "853badcb-3ec3-40fd-a9f4-c4582b56fd1d",
   "metadata": {},
   "outputs": [
    {
     "name": "stdout",
     "output_type": "stream",
     "text": [
      "2\n"
     ]
    }
   ],
   "source": [
    "def count(list,n):\n",
    "    count=0\n",
    "    for i in list:\n",
    "        if i==n:\n",
    "            count+=1\n",
    "    return count\n",
    "list=[1,2,7,8,7]\n",
    "n=7\n",
    "print(count(list,n))         "
   ]
  },
  {
   "cell_type": "code",
   "execution_count": null,
   "id": "39d0e45f-ae62-46ae-8c41-173312ae8afb",
   "metadata": {},
   "outputs": [],
   "source": [
    "def max(list):\n",
    "    if len(list)==0:\n",
    "        return none\n",
    "    max=list[0]\n",
    "    for i in list:\n",
    "        if i>max:\n",
    "            max=i\n",
    "    return max\n",
    "list=[3,7,5 ]\n",
    "print(max(list))             "
   ]
  },
  {
   "cell_type": "code",
   "execution_count": null,
   "id": "bba1e41a-279a-4ef6-844a-4247e90da03b",
   "metadata": {},
   "outputs": [],
   "source": [
    "pos=-1\n",
    "def search(list,n):\n",
    "    i=0\n",
    "    while i<len(list):\n",
    "        if list[i]==n:\n",
    "            globals()['pos']=i\n",
    "            return True\n",
    "        i=i+1\n",
    "    return False\n",
    "list=[1,2,4,2,6]\n",
    "n=4\n",
    "if search(list,n):\n",
    "    print('found at',pos+1)\n",
    "else:\n",
    "    print('not found')"
   ]
  },
  {
   "cell_type": "code",
   "execution_count": null,
   "id": "477ccef3-34eb-4996-9478-e81582794323",
   "metadata": {},
   "outputs": [],
   "source": [
    "pos=-1\n",
    "def search(list,n):\n",
    "    i=0\n",
    "    while i<len(list):\n",
    "        if list[i]==n:\n",
    "            globals()['pos']=i\n",
    "            return True\n",
    "        i=i+1\n",
    "    return False\n",
    "list=[1,2,4,2,6]\n",
    "n=4\n",
    "if search(list,n):\n",
    "    print('found at',pos+1)\n",
    "else:\n",
    "    print('not found')"
   ]
  },
  {
   "cell_type": "code",
   "execution_count": null,
   "id": "082d5b42-98ae-4603-9564-334d3f0d7452",
   "metadata": {},
   "outputs": [],
   "source": [
    "def duplicates(search,n):\n",
    "    duplicates[]\n",
    "    seen[]\n",
    "    for i in list:\n",
    "        if i in seen:\n",
    "            if i not in duplicate:\n",
    "                duplicate.append(i)\n",
    "            else:\n",
    "                seen.add(i)\n",
    "    return duplicate\n",
    "list[1,1,2,3,4,4,5]\n",
    "duplicates=[]\n",
    "seen=set()\n",
    "                "
   ]
  },
  {
   "cell_type": "code",
   "execution_count": null,
   "id": "a395dee8-5bbf-43f3-b9ef-65b864bb35c5",
   "metadata": {},
   "outputs": [],
   "source": [
    "def even(list):\n",
    "    for i in list:\n",
    "        if i%2==0:\n",
    "            return i\n",
    "    return none\n",
    "list=[2,4,6,7]\n",
    "print(even(list))"
   ]
  },
  {
   "cell_type": "code",
   "execution_count": null,
   "id": "7bfe9ea4-5b0c-4fae-8b7c-4cd77faba5fe",
   "metadata": {},
   "outputs": [],
   "source": []
  }
 ],
 "metadata": {
  "kernelspec": {
   "display_name": "Python 3 (ipykernel)",
   "language": "python",
   "name": "python3"
  },
  "language_info": {
   "codemirror_mode": {
    "name": "ipython",
    "version": 3
   },
   "file_extension": ".py",
   "mimetype": "text/x-python",
   "name": "python",
   "nbconvert_exporter": "python",
   "pygments_lexer": "ipython3",
   "version": "3.12.4"
  }
 },
 "nbformat": 4,
 "nbformat_minor": 5
}
