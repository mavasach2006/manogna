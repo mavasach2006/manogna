{
 "cells": [
  {
   "cell_type": "code",
   "execution_count": 5,
   "id": "c4ea3ad2-33de-4190-8259-c24e632258bb",
   "metadata": {},
   "outputs": [
    {
     "name": "stdin",
     "output_type": "stream",
     "text": [
      "enter a number 2\n"
     ]
    },
    {
     "name": "stdout",
     "output_type": "stream",
     "text": [
      "the number is even and positive\n"
     ]
    }
   ],
   "source": [
    "n=int(input(\"enter a number\"))\n",
    "if (n>=0): \n",
    "    if n%2==0:\n",
    "        print(\"the number is even and positive\")\n",
    "    else:\n",
    "        print(\"the number is odd and positive\")\n",
    "else:\n",
    "    if n%2==0:\n",
    "        print(\"the number is negative and even\")\n",
    "    else:\n",
    "        print(\"the number is negative and odd\")"
   ]
  },
  {
   "cell_type": "code",
   "execution_count": 7,
   "id": "b39b8127-05a8-4339-b106-eb8273fb6871",
   "metadata": {},
   "outputs": [
    {
     "name": "stdin",
     "output_type": "stream",
     "text": [
      "enter the num 3\n"
     ]
    },
    {
     "name": "stdout",
     "output_type": "stream",
     "text": [
      "6\n"
     ]
    }
   ],
   "source": [
    "n=int(input(\"enter the num\"))\n",
    "i=1\n",
    "sum=0\n",
    "while i<=n:\n",
    "    sum +=i\n",
    "    i=i+1\n",
    "print(sum)\n",
    "\n",
    "    "
   ]
  },
  {
   "cell_type": "code",
   "execution_count": null,
   "id": "c1a2660b-bc9b-4f4a-86dd-14963c29db03",
   "metadata": {},
   "outputs": [],
   "source": []
  }
 ],
 "metadata": {
  "kernelspec": {
   "display_name": "Python 3 (ipykernel)",
   "language": "python",
   "name": "python3"
  },
  "language_info": {
   "codemirror_mode": {
    "name": "ipython",
    "version": 3
   },
   "file_extension": ".py",
   "mimetype": "text/x-python",
   "name": "python",
   "nbconvert_exporter": "python",
   "pygments_lexer": "ipython3",
   "version": "3.12.4"
  }
 },
 "nbformat": 4,
 "nbformat_minor": 5
}
