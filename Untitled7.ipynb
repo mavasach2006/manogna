{
 "cells": [
  {
   "cell_type": "code",
   "execution_count": 21,
   "id": "27d9668c-7886-4f72-a595-fca6a9bd1913",
   "metadata": {},
   "outputs": [
    {
     "name": "stdin",
     "output_type": "stream",
     "text": [
      "enter the value 49\n"
     ]
    },
    {
     "name": "stdout",
     "output_type": "stream",
     "text": [
      "x is not divisible by 7\n"
     ]
    }
   ],
   "source": [
    "x=int(input(\"enter the value\"))\n",
    "n=x%7==0\n",
    "if (x==0):\n",
    "   print(\"x is divisible by 7\")\n",
    "else:\n",
    "   print(\"x is not divisible by 7\")"
   ]
  },
  {
   "cell_type": "code",
   "execution_count": 19,
   "id": "c3a85628-3403-4bba-ab79-ea500105a7a9",
   "metadata": {},
   "outputs": [
    {
     "name": "stdin",
     "output_type": "stream",
     "text": [
      "enter the value 6\n"
     ]
    },
    {
     "name": "stdout",
     "output_type": "stream",
     "text": [
      "friday\n"
     ]
    }
   ],
   "source": [
    "num=int(input(\"enter the value\"))\n",
    "if num==1:\n",
    "    print(\"sunday\")\n",
    "elif num==2:\n",
    "    print(\"monday\")\n",
    "elif num==3:\n",
    "    print(\"tuesday\")\n",
    "elif num==4:\n",
    "    print(\"wednesday\")\n",
    "elif num==5:\n",
    "    print(\"thursday\")\n",
    "elif num==6:\n",
    "    print(\"friday\")\n",
    "elif num==7:\n",
    "    print(\"saturday\")\n",
    "else:\n",
    "    print(\"please enter number between 1 to 7\")\n",
    "\n"
   ]
  },
  {
   "cell_type": "code",
   "execution_count": null,
   "id": "608556ee-0b1a-4355-9360-c2e617d9d29a",
   "metadata": {},
   "outputs": [],
   "source": []
  }
 ],
 "metadata": {
  "kernelspec": {
   "display_name": "Python 3 (ipykernel)",
   "language": "python",
   "name": "python3"
  },
  "language_info": {
   "codemirror_mode": {
    "name": "ipython",
    "version": 3
   },
   "file_extension": ".py",
   "mimetype": "text/x-python",
   "name": "python",
   "nbconvert_exporter": "python",
   "pygments_lexer": "ipython3",
   "version": "3.12.4"
  }
 },
 "nbformat": 4,
 "nbformat_minor": 5
}
