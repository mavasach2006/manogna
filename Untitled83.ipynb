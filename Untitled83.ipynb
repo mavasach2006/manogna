{
 "cells": [
  {
   "cell_type": "code",
   "execution_count": 17,
   "id": "0ec5f27d-a15e-47ed-b22f-dcbbdd9140c4",
   "metadata": {},
   "outputs": [
    {
     "ename": "IndexError",
     "evalue": "list index out of range",
     "output_type": "error",
     "traceback": [
      "\u001b[1;31m---------------------------------------------------------------------------\u001b[0m",
      "\u001b[1;31mIndexError\u001b[0m                                Traceback (most recent call last)",
      "Cell \u001b[1;32mIn[17], line 11\u001b[0m\n\u001b[0;32m      9\u001b[0m         a[\u001b[38;5;28mmin\u001b[39m]\u001b[38;5;241m=\u001b[39mtemp\n\u001b[0;32m     10\u001b[0m a\u001b[38;5;241m=\u001b[39m[\u001b[38;5;241m2\u001b[39m,\u001b[38;5;241m5\u001b[39m,\u001b[38;5;241m6\u001b[39m,\u001b[38;5;241m9\u001b[39m,\u001b[38;5;241m10\u001b[39m]\n\u001b[1;32m---> 11\u001b[0m soting(a)\n\u001b[0;32m     12\u001b[0m \u001b[38;5;28mprint\u001b[39m(a)\n",
      "Cell \u001b[1;32mIn[17], line 5\u001b[0m, in \u001b[0;36msoting\u001b[1;34m(a)\u001b[0m\n\u001b[0;32m      3\u001b[0m \u001b[38;5;28mmin\u001b[39m\u001b[38;5;241m=\u001b[39mi\n\u001b[0;32m      4\u001b[0m \u001b[38;5;28;01mfor\u001b[39;00m j \u001b[38;5;129;01min\u001b[39;00m \u001b[38;5;28mrange\u001b[39m(i,\u001b[38;5;241m7\u001b[39m):\n\u001b[1;32m----> 5\u001b[0m     \u001b[38;5;28;01mif\u001b[39;00m a[j] \u001b[38;5;241m<\u001b[39m a[\u001b[38;5;28mmin\u001b[39m]:\n\u001b[0;32m      6\u001b[0m         \u001b[38;5;28mmin\u001b[39m\u001b[38;5;241m=\u001b[39mj\n\u001b[0;32m      7\u001b[0m temp\u001b[38;5;241m=\u001b[39ma[i]\n",
      "\u001b[1;31mIndexError\u001b[0m: list index out of range"
     ]
    }
   ],
   "source": [
    "def sort(a):\n",
    "    for i in range(6):\n",
    "        min=i\n",
    "        for j in range(i,7):\n",
    "            if a[j] < a[min]:\n",
    "                min=j\n",
    "        temp=a[i]\n",
    "        a[i]=a[min]\n",
    "        a[min]=temp\n",
    "a=[2,5,6,9,10]\n",
    "soting(a)\n",
    "print(a)"
   ]
  },
  {
   "cell_type": "code",
   "execution_count": null,
   "id": "5b70bdc2-9701-4e1b-b100-fcda0b257ae4",
   "metadata": {},
   "outputs": [],
   "source": []
  },
  {
   "cell_type": "code",
   "execution_count": null,
   "id": "e80565e1-635b-4ff1-88a6-f7ef97863155",
   "metadata": {},
   "outputs": [],
   "source": []
  },
  {
   "cell_type": "code",
   "execution_count": null,
   "id": "58d61040-8411-4de0-9db0-a72e989a4c04",
   "metadata": {},
   "outputs": [],
   "source": []
  }
 ],
 "metadata": {
  "kernelspec": {
   "display_name": "Python 3 (ipykernel)",
   "language": "python",
   "name": "python3"
  },
  "language_info": {
   "codemirror_mode": {
    "name": "ipython",
    "version": 3
   },
   "file_extension": ".py",
   "mimetype": "text/x-python",
   "name": "python",
   "nbconvert_exporter": "python",
   "pygments_lexer": "ipython3",
   "version": "3.12.4"
  }
 },
 "nbformat": 4,
 "nbformat_minor": 5
}
