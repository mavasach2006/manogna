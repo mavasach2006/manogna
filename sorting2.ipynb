{
 "cells": [
  {
   "cell_type": "code",
   "execution_count": 9,
   "id": "beda8d13-39da-45a0-8f3a-e2544cf9a9b6",
   "metadata": {},
   "outputs": [
    {
     "name": "stdout",
     "output_type": "stream",
     "text": [
      "4\n"
     ]
    }
   ],
   "source": [
    "def even(list):\n",
    "    for i in list:\n",
    "        if i%2==0:\n",
    "            return i\n",
    "    return none\n",
    "list=[3,4,9]\n",
    "print(even(list))"
   ]
  },
  {
   "cell_type": "code",
   "execution_count": 13,
   "id": "1c8a2e2e-ef1f-47f6-831c-29c79a4a46a0",
   "metadata": {},
   "outputs": [
    {
     "name": "stdout",
     "output_type": "stream",
     "text": [
      "3\n"
     ]
    }
   ],
   "source": [
    "def odd(list):\n",
    "    for i in list:\n",
    "        if i%2!=0:\n",
    "            return i\n",
    "    return none\n",
    "list=[3,4,9]\n",
    "print(odd(list))"
   ]
  },
  {
   "cell_type": "code",
   "execution_count": 27,
   "id": "807e9f5c-5fc2-4424-bd92-fecf1ea011e6",
   "metadata": {},
   "outputs": [
    {
     "name": "stdout",
     "output_type": "stream",
     "text": [
      "[2, 4, 8]\n"
     ]
    }
   ],
   "source": [
    "def even(list):\n",
    "    even=[]\n",
    "    for i in list:\n",
    "        if i%2==0:\n",
    "            even.append(i)\n",
    "    return even \n",
    "list=[2,4,8]\n",
    "print(even(list))"
   ]
  },
  {
   "cell_type": "code",
   "execution_count": 37,
   "id": "749d4c75-73e1-48bb-8f76-6979530cf5b4",
   "metadata": {},
   "outputs": [
    {
     "ename": "AttributeError",
     "evalue": "'function' object has no attribute 'append'",
     "output_type": "error",
     "traceback": [
      "\u001b[1;31m---------------------------------------------------------------------------\u001b[0m",
      "\u001b[1;31mAttributeError\u001b[0m                            Traceback (most recent call last)",
      "Cell \u001b[1;32mIn[37], line 7\u001b[0m\n\u001b[0;32m      5\u001b[0m     \u001b[38;5;28;01mreturn\u001b[39;00m odd\n\u001b[0;32m      6\u001b[0m \u001b[38;5;28mlist\u001b[39m\u001b[38;5;241m=\u001b[39m[\u001b[38;5;241m9\u001b[39m,\u001b[38;5;241m7\u001b[39m,\u001b[38;5;241m8\u001b[39m]\n\u001b[1;32m----> 7\u001b[0m \u001b[38;5;28mprint\u001b[39m(odd(\u001b[38;5;28mlist\u001b[39m))\n",
      "Cell \u001b[1;32mIn[37], line 4\u001b[0m, in \u001b[0;36modd\u001b[1;34m(list)\u001b[0m\n\u001b[0;32m      2\u001b[0m \u001b[38;5;28;01mfor\u001b[39;00m i \u001b[38;5;129;01min\u001b[39;00m \u001b[38;5;28mlist\u001b[39m:\n\u001b[0;32m      3\u001b[0m     \u001b[38;5;28;01mif\u001b[39;00m i\u001b[38;5;241m%\u001b[39m\u001b[38;5;241m2\u001b[39m\u001b[38;5;241m!=\u001b[39m\u001b[38;5;241m0\u001b[39m:\n\u001b[1;32m----> 4\u001b[0m         odd\u001b[38;5;241m.\u001b[39mappend(i)\n\u001b[0;32m      5\u001b[0m \u001b[38;5;28;01mreturn\u001b[39;00m odd\n",
      "\u001b[1;31mAttributeError\u001b[0m: 'function' object has no attribute 'append'"
     ]
    }
   ],
   "source": [
    "def odd(list):\n",
    "    for i in list:\n",
    "        if i%2!=0:\n",
    "            odd.append(i)\n",
    "    return odd\n",
    "list=[9,7,8]\n",
    "print(odd(list))"
   ]
  },
  {
   "cell_type": "code",
   "execution_count": null,
   "id": "394c47c9-6e4c-4f6f-86d2-2ca2a9ad4b69",
   "metadata": {},
   "outputs": [],
   "source": [
    "pos=-1\n",
    "def binary(list,n):\n",
    "    low=0\n",
    "    high=len(list)-1\n",
    "    while(low<=high):\n",
    "        mid=(low+high)//2\n",
    "        if list[mid]==n:\n",
    "            globals()['pos']=mid\n",
    "            return True\n",
    "        elif list[mid]<n:\n",
    "            low=mid+1\n",
    "        else:\n",
    "            high=mid-1\n",
    "    return False\n",
    "list=[1,4,5,6]\n",
    "n=5\n",
    "if binary(list,n):\n",
    "    print('found at',pos+1)\n",
    "else:\n",
    "    print('not found')"
   ]
  },
  {
   "cell_type": "code",
   "execution_count": 73,
   "id": "cbfdc93c-bf9d-48d6-9b23-c63ff0f3edee",
   "metadata": {},
   "outputs": [
    {
     "ename": "RecursionError",
     "evalue": "maximum recursion depth exceeded",
     "output_type": "error",
     "traceback": [
      "\u001b[1;31m---------------------------------------------------------------------------\u001b[0m",
      "\u001b[1;31mRecursionError\u001b[0m                            Traceback (most recent call last)",
      "Cell \u001b[1;32mIn[73], line 13\u001b[0m\n\u001b[0;32m     11\u001b[0m \u001b[38;5;28mlist\u001b[39m\u001b[38;5;241m=\u001b[39m[\u001b[38;5;241m1\u001b[39m,\u001b[38;5;241m2\u001b[39m,\u001b[38;5;241m3\u001b[39m,\u001b[38;5;241m4\u001b[39m]\n\u001b[0;32m     12\u001b[0m n\u001b[38;5;241m=\u001b[39m\u001b[38;5;241m4\u001b[39m\n\u001b[1;32m---> 13\u001b[0m \u001b[38;5;28mprint\u001b[39m(binary(\u001b[38;5;28mlist\u001b[39m,n,\u001b[38;5;241m0\u001b[39m,\u001b[38;5;28mlen\u001b[39m(\u001b[38;5;28mlist\u001b[39m)\u001b[38;5;241m-\u001b[39m\u001b[38;5;241m1\u001b[39m))\n",
      "Cell \u001b[1;32mIn[73], line 8\u001b[0m, in \u001b[0;36mbinary\u001b[1;34m(list, n, low, high)\u001b[0m\n\u001b[0;32m      6\u001b[0m     \u001b[38;5;28;01mreturn\u001b[39;00m \u001b[38;5;28;01mTrue\u001b[39;00m\n\u001b[0;32m      7\u001b[0m \u001b[38;5;28;01melif\u001b[39;00m \u001b[38;5;28mlist\u001b[39m[mid]\u001b[38;5;241m<\u001b[39mn:\n\u001b[1;32m----> 8\u001b[0m     \u001b[38;5;28;01mreturn\u001b[39;00m binary(\u001b[38;5;28mlist\u001b[39m,n,low,mid\u001b[38;5;241m+\u001b[39m\u001b[38;5;241m1\u001b[39m)\n\u001b[0;32m      9\u001b[0m \u001b[38;5;28;01melse\u001b[39;00m:\n\u001b[0;32m     10\u001b[0m     \u001b[38;5;28;01mreturn\u001b[39;00m binary(\u001b[38;5;28mlist\u001b[39m,n,high,mid\u001b[38;5;241m-\u001b[39m\u001b[38;5;241m1\u001b[39m)\n",
      "Cell \u001b[1;32mIn[73], line 8\u001b[0m, in \u001b[0;36mbinary\u001b[1;34m(list, n, low, high)\u001b[0m\n\u001b[0;32m      6\u001b[0m     \u001b[38;5;28;01mreturn\u001b[39;00m \u001b[38;5;28;01mTrue\u001b[39;00m\n\u001b[0;32m      7\u001b[0m \u001b[38;5;28;01melif\u001b[39;00m \u001b[38;5;28mlist\u001b[39m[mid]\u001b[38;5;241m<\u001b[39mn:\n\u001b[1;32m----> 8\u001b[0m     \u001b[38;5;28;01mreturn\u001b[39;00m binary(\u001b[38;5;28mlist\u001b[39m,n,low,mid\u001b[38;5;241m+\u001b[39m\u001b[38;5;241m1\u001b[39m)\n\u001b[0;32m      9\u001b[0m \u001b[38;5;28;01melse\u001b[39;00m:\n\u001b[0;32m     10\u001b[0m     \u001b[38;5;28;01mreturn\u001b[39;00m binary(\u001b[38;5;28mlist\u001b[39m,n,high,mid\u001b[38;5;241m-\u001b[39m\u001b[38;5;241m1\u001b[39m)\n",
      "    \u001b[1;31m[... skipping similar frames: binary at line 8 (2974 times)]\u001b[0m\n",
      "Cell \u001b[1;32mIn[73], line 8\u001b[0m, in \u001b[0;36mbinary\u001b[1;34m(list, n, low, high)\u001b[0m\n\u001b[0;32m      6\u001b[0m     \u001b[38;5;28;01mreturn\u001b[39;00m \u001b[38;5;28;01mTrue\u001b[39;00m\n\u001b[0;32m      7\u001b[0m \u001b[38;5;28;01melif\u001b[39;00m \u001b[38;5;28mlist\u001b[39m[mid]\u001b[38;5;241m<\u001b[39mn:\n\u001b[1;32m----> 8\u001b[0m     \u001b[38;5;28;01mreturn\u001b[39;00m binary(\u001b[38;5;28mlist\u001b[39m,n,low,mid\u001b[38;5;241m+\u001b[39m\u001b[38;5;241m1\u001b[39m)\n\u001b[0;32m      9\u001b[0m \u001b[38;5;28;01melse\u001b[39;00m:\n\u001b[0;32m     10\u001b[0m     \u001b[38;5;28;01mreturn\u001b[39;00m binary(\u001b[38;5;28mlist\u001b[39m,n,high,mid\u001b[38;5;241m-\u001b[39m\u001b[38;5;241m1\u001b[39m)\n",
      "\u001b[1;31mRecursionError\u001b[0m: maximum recursion depth exceeded"
     ]
    }
   ],
   "source": [
    "def binary(list,n,low,high):\n",
    "    if low>high:\n",
    "        return -1\n",
    "    mid=low+high//2\n",
    "    if list[mid]==n:\n",
    "        return True\n",
    "    elif list[mid]<n:\n",
    "        return binary(list,n,low,mid+1)\n",
    "    else:\n",
    "        return binary(list,n,high,mid-1)\n",
    "list=[1,2,3,4]\n",
    "n=4\n",
    "print(binary(list,n,0,len(list)-1))"
   ]
  },
  {
   "cell_type": "code",
   "execution_count": 128,
   "id": "be82f053-1937-47ae-a545-f62fc99b9969",
   "metadata": {},
   "outputs": [
    {
     "name": "stdout",
     "output_type": "stream",
     "text": [
      "3\n"
     ]
    }
   ],
   "source": [
    "def occ(list,n):\n",
    "    low=0\n",
    "    high=len(list)-1\n",
    "    while(low<=high):\n",
    "        mid=(low+high)//2\n",
    "        if list[mid]==n:\n",
    "            if mid==0 or list[mid-1]!=n:\n",
    "                return mid\n",
    "            else:\n",
    "                high=mid-1\n",
    "        elif list[mid]<n:\n",
    "            low=mid+1\n",
    "        else:\n",
    "            high=mid-1\n",
    "    return -1\n",
    "list=[1,2,2,4,4]\n",
    "n=4\n",
    "print(occ(list,n))         "
   ]
  },
  {
   "cell_type": "code",
   "execution_count": null,
   "id": "7c54489a-4a6e-442e-aee1-c1ece21e6338",
   "metadata": {},
   "outputs": [],
   "source": [
    "def occ(list,n):\n",
    "    low=0\n",
    "    high=len(list)-1\n",
    "    while low<=high:\n",
    "        mid=(low+high)//2\n",
    "        if list[mid]==n:\n",
    "            if mid==len(list)-1 or list[mid+1]!=n:\n",
    "                return mid\n",
    "            else:\n",
    "                high=mid+1\n",
    "        elif list[mid]<n:\n",
    "            low=mid+1\n",
    "        else:\n",
    "            high=mid-1\n",
    "    return -1\n",
    "list=[1,2,2,4,4]\n",
    "n=4\n",
    "print(occ(list,n))         "
   ]
  },
  {
   "cell_type": "code",
   "execution_count": null,
   "id": "54200b1a-6ebf-4aea-8331-9f65d7f66cba",
   "metadata": {},
   "outputs": [],
   "source": []
  },
  {
   "cell_type": "code",
   "execution_count": null,
   "id": "d7834a05-e525-4d7e-9ffe-380a15d1b25a",
   "metadata": {},
   "outputs": [],
   "source": []
  },
  {
   "cell_type": "code",
   "execution_count": null,
   "id": "b21636cd-9314-4d1f-8cc5-ecf263b42556",
   "metadata": {},
   "outputs": [],
   "source": []
  },
  {
   "cell_type": "code",
   "execution_count": null,
   "id": "5fe00774-0025-405a-9655-0a57a40d05a6",
   "metadata": {},
   "outputs": [],
   "source": []
  },
  {
   "cell_type": "code",
   "execution_count": null,
   "id": "efb5cc55-24ea-424a-9cf3-8aad5edb00d0",
   "metadata": {},
   "outputs": [],
   "source": []
  }
 ],
 "metadata": {
  "kernelspec": {
   "display_name": "Python 3 (ipykernel)",
   "language": "python",
   "name": "python3"
  },
  "language_info": {
   "codemirror_mode": {
    "name": "ipython",
    "version": 3
   },
   "file_extension": ".py",
   "mimetype": "text/x-python",
   "name": "python",
   "nbconvert_exporter": "python",
   "pygments_lexer": "ipython3",
   "version": "3.12.4"
  }
 },
 "nbformat": 4,
 "nbformat_minor": 5
}
