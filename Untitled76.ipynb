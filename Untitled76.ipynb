{
 "cells": [
  {
   "cell_type": "code",
   "execution_count": 8,
   "id": "f4fb518d-317c-487d-a7cb-d74c804b1364",
   "metadata": {},
   "outputs": [
    {
     "ename": "TypeError",
     "evalue": "'type' object is not iterable",
     "output_type": "error",
     "traceback": [
      "\u001b[1;31m---------------------------------------------------------------------------\u001b[0m",
      "\u001b[1;31mTypeError\u001b[0m                                 Traceback (most recent call last)",
      "Cell \u001b[1;32mIn[8], line 12\u001b[0m\n\u001b[0;32m     10\u001b[0m     \u001b[38;5;28;01mreturn\u001b[39;00m duplicates\n\u001b[0;32m     11\u001b[0m \u001b[38;5;28mlist\u001b[39m[\u001b[38;5;241m1\u001b[39m,\u001b[38;5;241m1\u001b[39m,\u001b[38;5;241m2\u001b[39m,\u001b[38;5;241m3\u001b[39m,\u001b[38;5;241m4\u001b[39m,\u001b[38;5;241m4\u001b[39m,\u001b[38;5;241m5\u001b[39m]\n\u001b[1;32m---> 12\u001b[0m \u001b[38;5;28mprint\u001b[39m(duplicates(\u001b[38;5;28mlist\u001b[39m))\n",
      "Cell \u001b[1;32mIn[8], line 4\u001b[0m, in \u001b[0;36mduplicates\u001b[1;34m(list)\u001b[0m\n\u001b[0;32m      2\u001b[0m duplicates\u001b[38;5;241m=\u001b[39m[]\n\u001b[0;32m      3\u001b[0m seen\u001b[38;5;241m=\u001b[39m\u001b[38;5;28mset\u001b[39m()\n\u001b[1;32m----> 4\u001b[0m \u001b[38;5;28;01mfor\u001b[39;00m i \u001b[38;5;129;01min\u001b[39;00m \u001b[38;5;28mlist\u001b[39m:\n\u001b[0;32m      5\u001b[0m     \u001b[38;5;28;01mif\u001b[39;00m i \u001b[38;5;129;01min\u001b[39;00m seen:\n\u001b[0;32m      6\u001b[0m         \u001b[38;5;28;01mif\u001b[39;00m i \u001b[38;5;129;01mnot\u001b[39;00m \u001b[38;5;129;01min\u001b[39;00m duplicates:\n",
      "\u001b[1;31mTypeError\u001b[0m: 'type' object is not iterable"
     ]
    }
   ],
   "source": [
    "def duplicates(list):\n",
    "    duplicates=[]\n",
    "    seen=set()\n",
    "    for i in list:\n",
    "        if i in seen:\n",
    "            if i not in duplicates:\n",
    "                duplicates.append(i)\n",
    "            else:\n",
    "                seen.add(i)\n",
    "    return duplicates\n",
    "list[1,1,2,3,4,4,5]\n",
    "print(duplicates(list))"
   ]
  },
  {
   "cell_type": "code",
   "execution_count": null,
   "id": "ed61cc0c-1ee8-4ac2-a358-4d99a5f932fe",
   "metadata": {},
   "outputs": [],
   "source": []
  },
  {
   "cell_type": "code",
   "execution_count": null,
   "id": "e90e5ee9-1bbb-4bc9-b960-415b4e89b5c1",
   "metadata": {},
   "outputs": [],
   "source": []
  }
 ],
 "metadata": {
  "kernelspec": {
   "display_name": "Python 3 (ipykernel)",
   "language": "python",
   "name": "python3"
  },
  "language_info": {
   "codemirror_mode": {
    "name": "ipython",
    "version": 3
   },
   "file_extension": ".py",
   "mimetype": "text/x-python",
   "name": "python",
   "nbconvert_exporter": "python",
   "pygments_lexer": "ipython3",
   "version": "3.12.4"
  }
 },
 "nbformat": 4,
 "nbformat_minor": 5
}
