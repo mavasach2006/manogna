{
 "cells": [
  {
   "cell_type": "code",
   "execution_count": null,
   "id": "9114a72c-4ff0-4a5d-a766-b54a890391e3",
   "metadata": {},
   "outputs": [],
   "source": []
  },
  {
   "cell_type": "code",
   "execution_count": 1,
   "id": "4494cb24-5552-4bc2-b830-b7724fd75902",
   "metadata": {},
   "outputs": [
    {
     "name": "stdin",
     "output_type": "stream",
     "text": [
      "enter the num 3\n",
      "enter the num 1\n"
     ]
    },
    {
     "name": "stdout",
     "output_type": "stream",
     "text": [
      "3\n"
     ]
    }
   ],
   "source": [
    "n=int(input(\"enter the num\"))\n",
    "x=int(input(\"enter the num\"))\n",
    "a=3\n",
    "b=0\n",
    "sum=0\n",
    "while a<=n:\n",
    "    sum=a*x**b*(-1)**b\n",
    "    a=a+3\n",
    "    b=b+1\n",
    "print(sum)"
   ]
  },
  {
   "cell_type": "code",
   "execution_count": 3,
   "id": "6f41c3a5-d93f-4fe1-ac77-acf38e18320d",
   "metadata": {},
   "outputs": [
    {
     "name": "stdin",
     "output_type": "stream",
     "text": [
      "enter the value 64\n",
      "enter the value 48\n"
     ]
    },
    {
     "name": "stdout",
     "output_type": "stream",
     "text": [
      "16\n"
     ]
    }
   ],
   "source": [
    "a=int(input(\"enter the value\"))\n",
    "b=int(input(\"enter the value\"))\n",
    "r=a%b\n",
    "print(r)"
   ]
  },
  {
   "cell_type": "code",
   "execution_count": 7,
   "id": "bd8e52d4-581a-455c-b260-b69e770f91f6",
   "metadata": {},
   "outputs": [
    {
     "name": "stdout",
     "output_type": "stream",
     "text": [
      "3\n",
      "12.0\n"
     ]
    }
   ],
   "source": [
    " a=12\n",
    "b=3\n",
    "if a>b:\n",
    "    n=a\n",
    "    d=b\n",
    "else:\n",
    "    n=b\n",
    "    d=a\n",
    "r=n%d\n",
    "while r!=0:\n",
    "    n=d\n",
    "    d=r\n",
    "r=n%d\n",
    "gcd=d\n",
    "lcm=(a*b)/gcd\n",
    "print(gcd)\n",
    "print(lcm)"
   ]
  },
  {
   "cell_type": "code",
   "execution_count": null,
   "id": "c19a46f5-16dc-41af-9510-321f699c6034",
   "metadata": {},
   "outputs": [
    {
     "name": "stdin",
     "output_type": "stream",
     "text": [
      "enter the number 6\n"
     ]
    },
    {
     "name": "stdout",
     "output_type": "stream",
     "text": [
      "1\n",
      "2\n",
      "3\n"
     ]
    }
   ],
   "source": [
    "n=int(input(\"enter the number\"))\n",
    "d=1\n",
    "while d<n:\n",
    "    if(n%d==0):\n",
    "        print(d)\n",
    "        d=d+1\n",
    "\n",
    "      "
   ]
  },
  {
   "cell_type": "code",
   "execution_count": null,
   "id": "15220cc2-a64b-4b42-9534-6bb9a615da43",
   "metadata": {},
   "outputs": [],
   "source": []
  },
  {
   "cell_type": "code",
   "execution_count": null,
   "id": "3f339e1e-52dc-4f60-b9d2-4161d5bb8eed",
   "metadata": {},
   "outputs": [],
   "source": []
  }
 ],
 "metadata": {
  "kernelspec": {
   "display_name": "Python 3 (ipykernel)",
   "language": "python",
   "name": "python3"
  },
  "language_info": {
   "codemirror_mode": {
    "name": "ipython",
    "version": 3
   },
   "file_extension": ".py",
   "mimetype": "text/x-python",
   "name": "python",
   "nbconvert_exporter": "python",
   "pygments_lexer": "ipython3",
   "version": "3.12.4"
  }
 },
 "nbformat": 4,
 "nbformat_minor": 5
}
