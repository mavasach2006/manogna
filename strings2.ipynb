{
 "cells": [
  {
   "cell_type": "code",
   "execution_count": 5,
   "id": "7100a90e-a521-4df5-a87a-0097779019f5",
   "metadata": {},
   "outputs": [
    {
     "name": "stdout",
     "output_type": "stream",
     "text": [
      "['jishnu', 'jayashree', 'sanjana']\n"
     ]
    }
   ],
   "source": [
    "list=[\"jishnu\",\"jayashree\",\"sanjana\",\"lakshmi\"]\n",
    "newlist=[char for char in list if \"j\" in char]\n",
    "print(newlist)\n"
   ]
  },
  {
   "cell_type": "code",
   "execution_count": 11,
   "id": "c0cf3822-443a-4d0f-8144-c403c8f94e7c",
   "metadata": {},
   "outputs": [
    {
     "name": "stdout",
     "output_type": "stream",
     "text": [
      "['o', 'a', 'i']\n"
     ]
    }
   ],
   "source": [
    "string=\"programing\"\n",
    "vowel=\"aeiouAEIOU\"\n",
    "new=[char for char in string if char in vowel]\n",
    "print(new)"
   ]
  },
  {
   "cell_type": "code",
   "execution_count": 17,
   "id": "648d1ecf-28fe-4670-8a0a-dbfcd1bde876",
   "metadata": {},
   "outputs": [
    {
     "name": "stdout",
     "output_type": "stream",
     "text": [
      "['m', 'n', 'g', 'n', 's', 'l', 'k', 's', 'h', 'm']\n"
     ]
    }
   ],
   "source": [
    "string=\"manogna is lakshmi\"\n",
    "vowel=\" aeiouAEIOU\"\n",
    "new=[char for char in string if char not in vowel]\n",
    "print(new)"
   ]
  },
  {
   "cell_type": "code",
   "execution_count": 23,
   "id": "800ddb09-cc88-4dc8-b3a8-2ff16a45a571",
   "metadata": {},
   "outputs": [
    {
     "name": "stdout",
     "output_type": "stream",
     "text": [
      "['a', 'o', 'a', 'i', 'a', 'i']\n"
     ]
    }
   ],
   "source": [
    "string=\"manogna is lakshmi\"\n",
    "vowel=\"aeiouAEIOU\"\n",
    "new=[char for char in string if char in vowel]\n",
    "print(new)"
   ]
  },
  {
   "cell_type": "code",
   "execution_count": 25,
   "id": "adfd8fe6-cc2b-4a7b-9394-9e2d0c222890",
   "metadata": {},
   "outputs": [
    {
     "name": "stdout",
     "output_type": "stream",
     "text": [
      "3\n"
     ]
    }
   ],
   "source": [
    "string=\"programing\"\n",
    "vowel=\"aeiouAEIOU\"\n",
    "new=sum(1 for char in string if char in vowel)\n",
    "print(new)"
   ]
  },
  {
   "cell_type": "code",
   "execution_count": 27,
   "id": "bfd8190d-3d9d-4b5a-b41e-5b00ce4c4b1a",
   "metadata": {},
   "outputs": [
    {
     "name": "stdout",
     "output_type": "stream",
     "text": [
      "o\n",
      "a\n",
      "i\n"
     ]
    }
   ],
   "source": [
    "string=\"programing\"\n",
    "vowel=\"aeiouAEIOU\"\n",
    "for char in string:\n",
    "    if char in vowel:\n",
    "        print(char)\n"
   ]
  },
  {
   "cell_type": "code",
   "execution_count": 31,
   "id": "aec88e0c-4dd4-4eaf-a827-5a2dfd5a4221",
   "metadata": {},
   "outputs": [
    {
     "name": "stdout",
     "output_type": "stream",
     "text": [
      "9\n"
     ]
    }
   ],
   "source": [
    "string=\"hello world\"\n",
    "new=string.rfind('l')\n",
    "print(new)"
   ]
  },
  {
   "cell_type": "code",
   "execution_count": null,
   "id": "f031a2b1-7bf6-4103-8633-32d6880a2754",
   "metadata": {},
   "outputs": [],
   "source": []
  }
 ],
 "metadata": {
  "kernelspec": {
   "display_name": "Python 3 (ipykernel)",
   "language": "python",
   "name": "python3"
  },
  "language_info": {
   "codemirror_mode": {
    "name": "ipython",
    "version": 3
   },
   "file_extension": ".py",
   "mimetype": "text/x-python",
   "name": "python",
   "nbconvert_exporter": "python",
   "pygments_lexer": "ipython3",
   "version": "3.12.4"
  }
 },
 "nbformat": 4,
 "nbformat_minor": 5
}
