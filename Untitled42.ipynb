{
 "cells": [
  {
   "cell_type": "code",
   "execution_count": 33,
   "id": "d811f445-8040-45a2-9f82-563adae88b2a",
   "metadata": {},
   "outputs": [
    {
     "name": "stdout",
     "output_type": "stream",
     "text": [
      "120\n"
     ]
    }
   ],
   "source": [
    "def factorial(n):\n",
    "    if n==0 or n==1:\n",
    "        return 1\n",
    "    return n*factorial(n-1)\n",
    "print(factorial(5))"
   ]
  },
  {
   "cell_type": "code",
   "execution_count": 7,
   "id": "f2c45bc3-295a-497d-b203-1b6748efa09b",
   "metadata": {},
   "outputs": [
    {
     "name": "stdout",
     "output_type": "stream",
     "text": [
      "2\n"
     ]
    }
   ],
   "source": [
    "def fib(n):\n",
    "    if n<=1:\n",
    "        return n\n",
    "    else:\n",
    "       return fib(n-1)+fib(n-2)\n",
    "print(fib(3))\n",
    "    "
   ]
  },
  {
   "cell_type": "code",
   "execution_count": 12,
   "id": "274f6b42-cb43-4491-8fa8-ac5b5c1928f4",
   "metadata": {},
   "outputs": [
    {
     "name": "stdout",
     "output_type": "stream",
     "text": [
      "15\n"
     ]
    }
   ],
   "source": [
    "def sum_of_natural(n):\n",
    "    if n==1:\n",
    "        return 1\n",
    "    return n+sum_of_natural(n-1)\n",
    "print(sum_of_natural(5))\n",
    "    "
   ]
  },
  {
   "cell_type": "code",
   "execution_count": 29,
   "id": "8edca16c-6735-45ee-a6bf-c10d9127dcfb",
   "metadata": {},
   "outputs": [
    {
     "name": "stdout",
     "output_type": "stream",
     "text": [
      "False\n"
     ]
    }
   ],
   "source": [
    "def palindrone(n):\n",
    "    if len(n)<=1:\n",
    "        return True\n",
    "    if n[0]!=n[-1]:\n",
    "        return False\n",
    "    return palindrone(n[1:-1])\n",
    "print(palindrone(\"manogna\"))   "
   ]
  },
  {
   "cell_type": "code",
   "execution_count": 41,
   "id": "b5c1d925-e14d-4bb5-8dd3-ab09e3b2df37",
   "metadata": {},
   "outputs": [
    {
     "name": "stdout",
     "output_type": "stream",
     "text": [
      "8\n"
     ]
    }
   ],
   "source": [
    "def power(x,y):\n",
    "    if y==0:\n",
    "        return 1\n",
    "    return x*power(x,y-1)\n",
    "print(power(2,3))"
   ]
  },
  {
   "cell_type": "code",
   "execution_count": 39,
   "id": "28902a3b-1e37-436e-88eb-6cf52a082a7f",
   "metadata": {},
   "outputs": [
    {
     "name": "stdout",
     "output_type": "stream",
     "text": [
      "1\n"
     ]
    }
   ],
   "source": [
    "def gcd(a,b):\n",
    "    if b==0:\n",
    "        return a\n",
    "    else:\n",
    "        return gcd(b,a%b)\n",
    "print(gcd(5,6))"
   ]
  },
  {
   "cell_type": "code",
   "execution_count": 51,
   "id": "9cbdd7e6-754f-4415-9d8c-721243623a84",
   "metadata": {},
   "outputs": [
    {
     "name": "stdout",
     "output_type": "stream",
     "text": [
      "101\n"
     ]
    }
   ],
   "source": [
    "def decimal_to_binary(n):\n",
    "    if n==0:\n",
    "        return \"\"\n",
    "    return decimal_to_binary(n//2)+str(n%2)\n",
    "print(decimal_to_binary(5))"
   ]
  },
  {
   "cell_type": "code",
   "execution_count": 67,
   "id": "7c4bf126-7344-44c1-891b-cbebb3c4cbe2",
   "metadata": {},
   "outputs": [
    {
     "name": "stdout",
     "output_type": "stream",
     "text": [
      "11\n"
     ]
    }
   ],
   "source": [
    "def decimal_to_binary(n):\n",
    "    if n==0:\n",
    "        return \"\"\n",
    "    return decimal_to_binary(n//2)+ str(n%2)\n",
    "print(decimal_to_binary(3))"
   ]
  },
  {
   "cell_type": "code",
   "execution_count": 59,
   "id": "4ef59130-e609-4c84-b2a1-e101895d5f23",
   "metadata": {},
   "outputs": [
    {
     "name": "stdout",
     "output_type": "stream",
     "text": [
      "olleh\n"
     ]
    }
   ],
   "source": [
    "def reverse_string(n):\n",
    "    if len(n)==0:\n",
    "        return \"\"\n",
    "    return n[-1]+reverse_string(n[:-1])\n",
    "print(reverse_string(\"hello\"))"
   ]
  },
  {
   "cell_type": "code",
   "execution_count": 61,
   "id": "9019f55a-e5ab-412a-8a24-1b923d2fb8a5",
   "metadata": {},
   "outputs": [
    {
     "name": "stdout",
     "output_type": "stream",
     "text": [
      "12\n"
     ]
    }
   ],
   "source": [
    "def sum_of_digits(n):\n",
    "    if n==0:\n",
    "        return 0\n",
    "    return n%10 +sum_of_digits(n//10)\n",
    "print(sum_of_digits(345))\n",
    "    "
   ]
  },
  {
   "cell_type": "code",
   "execution_count": 71,
   "id": "a54c7f73-29a3-4cdd-9f63-85020bdf625a",
   "metadata": {},
   "outputs": [
    {
     "name": "stdout",
     "output_type": "stream",
     "text": [
      "6\n"
     ]
    }
   ],
   "source": [
    "def product_of_array(arr,n):\n",
    "    if n==0:\n",
    "        return arr[0]\n",
    "    return arr[n]*product_of_array(arr,n-1)\n",
    "print(product_of_array([1,2,3],2))"
   ]
  },
  {
   "cell_type": "code",
   "execution_count": 81,
   "id": "266d4d08-b2ce-4eb4-83c2-d7cb0ad1b757",
   "metadata": {},
   "outputs": [
    {
     "ename": "IndexError",
     "evalue": "list index out of range",
     "output_type": "error",
     "traceback": [
      "\u001b[1;31m---------------------------------------------------------------------------\u001b[0m",
      "\u001b[1;31mIndexError\u001b[0m                                Traceback (most recent call last)",
      "Cell \u001b[1;32mIn[81], line 5\u001b[0m\n\u001b[0;32m      3\u001b[0m         \u001b[38;5;28;01mreturn\u001b[39;00m arr[\u001b[38;5;241m0\u001b[39m]\n\u001b[0;32m      4\u001b[0m     \u001b[38;5;28;01mreturn\u001b[39;00m arr[n]\u001b[38;5;241m*\u001b[39mproduct_of_array(arr,n\u001b[38;5;241m-\u001b[39m\u001b[38;5;241m1\u001b[39m)\n\u001b[1;32m----> 5\u001b[0m \u001b[38;5;28mprint\u001b[39m(product_of_array([\u001b[38;5;241m1\u001b[39m,\u001b[38;5;241m2\u001b[39m,\u001b[38;5;241m3\u001b[39m,\u001b[38;5;241m4\u001b[39m],\u001b[38;5;241m5\u001b[39m))\n",
      "Cell \u001b[1;32mIn[81], line 4\u001b[0m, in \u001b[0;36mproduct_of_array\u001b[1;34m(arr, n)\u001b[0m\n\u001b[0;32m      2\u001b[0m \u001b[38;5;28;01mif\u001b[39;00m n\u001b[38;5;241m==\u001b[39m\u001b[38;5;241m0\u001b[39m:\n\u001b[0;32m      3\u001b[0m     \u001b[38;5;28;01mreturn\u001b[39;00m arr[\u001b[38;5;241m0\u001b[39m]\n\u001b[1;32m----> 4\u001b[0m \u001b[38;5;28;01mreturn\u001b[39;00m arr[n]\u001b[38;5;241m*\u001b[39mproduct_of_array(arr,n\u001b[38;5;241m-\u001b[39m\u001b[38;5;241m1\u001b[39m)\n",
      "\u001b[1;31mIndexError\u001b[0m: list index out of range"
     ]
    }
   ],
   "source": [
    "def product_of_array(arr,n):\n",
    "    if n==0:\n",
    "        return arr[0]\n",
    "    return arr[n]*product_of_array(arr,n-1)\n",
    "print(product_of_array([1,2,3,4],5))    "
   ]
  },
  {
   "cell_type": "code",
   "execution_count": 83,
   "id": "7299c0c3-0206-4237-ba8d-3889ea39e276",
   "metadata": {},
   "outputs": [
    {
     "name": "stdout",
     "output_type": "stream",
     "text": [
      "True\n"
     ]
    }
   ],
   "source": [
    "def is_sorted(arr,n):\n",
    "    if n==1:\n",
    "        return True\n",
    "    return arr[n-1]>=arr[n-2] and is_sorted(arr,n-1)\n",
    "print(is_sorted([1,2,3],2)) "
   ]
  },
  {
   "cell_type": "code",
   "execution_count": null,
   "id": "29578f5b-a528-4d53-a410-d27a4e37a670",
   "metadata": {},
   "outputs": [],
   "source": []
  },
  {
   "cell_type": "code",
   "execution_count": null,
   "id": "b5405a53-7d12-46cc-95db-9d662b272dd5",
   "metadata": {},
   "outputs": [],
   "source": []
  },
  {
   "cell_type": "code",
   "execution_count": null,
   "id": "1698a31e-7288-4a94-b92f-c0eacdc97bea",
   "metadata": {},
   "outputs": [],
   "source": []
  },
  {
   "cell_type": "code",
   "execution_count": null,
   "id": "712e1dcc-ec6e-48ac-acf8-b0a1351ec69a",
   "metadata": {},
   "outputs": [],
   "source": []
  }
 ],
 "metadata": {
  "kernelspec": {
   "display_name": "Python 3 (ipykernel)",
   "language": "python",
   "name": "python3"
  },
  "language_info": {
   "codemirror_mode": {
    "name": "ipython",
    "version": 3
   },
   "file_extension": ".py",
   "mimetype": "text/x-python",
   "name": "python",
   "nbconvert_exporter": "python",
   "pygments_lexer": "ipython3",
   "version": "3.12.4"
  }
 },
 "nbformat": 4,
 "nbformat_minor": 5
}
